{
 "cells": [
  {
   "cell_type": "markdown",
   "id": "d0bf7c37",
   "metadata": {},
   "source": [
    "<H1>My Jupyter Notebook on IBM Watson Studio</H1>"
   ]
  },
  {
   "cell_type": "markdown",
   "id": "5d52630c",
   "metadata": {},
   "source": [
    "<font>**Name: BoWei Chien**<font>  \n",
    "Current occupation:Quality engnieer   \n",
    "Desired occupation: Data analyst or scientist"
   ]
  },
  {
   "cell_type": "markdown",
   "id": "d68c1d33",
   "metadata": {},
   "source": [
    "<font>*I am interested in data science because I majored in statistics in the graduate school and more interested in finding problems from a large amount of data.  \n",
    "I hope that my interest can be combined with my future occupation.*</font>"
   ]
  },
  {
   "cell_type": "markdown",
   "id": "8e5c968d",
   "metadata": {},
   "source": [
    "<H3>The following code is created instance method for fibonacci sequence by recursive</H3>"
   ]
  },
  {
   "cell_type": "code",
   "execution_count": 16,
   "id": "11c45493",
   "metadata": {},
   "outputs": [
    {
     "data": {
      "text/plain": [
       "55"
      ]
     },
     "execution_count": 16,
     "metadata": {},
     "output_type": "execute_result"
    }
   ],
   "source": [
    "class Fibonacci_squence:\n",
    "    def Fibonacci(self,number):\n",
    "        if (number==0) or (number==1):\n",
    "            return(1)\n",
    "        else:\n",
    "            sumnation=number+self.Fibonacci(number-1)\n",
    "        return(sumnation)\n",
    "result=Fibonacci_squence()\n",
    "result.Fibonacci(10)"
   ]
  },
  {
   "cell_type": "markdown",
   "id": "d7467b06",
   "metadata": {},
   "source": [
    "---\n",
    "- Item 1\n",
    "- Item 2\n",
    "- Item 3\n",
    "  \n",
    "|**Item**|**Language**|\n",
    "|---              |:---        |   \n",
    "|Item 1           |Python      |\n",
    "|Item 2           |R           |\n",
    "|Item 3           |SQL         |\n",
    "LINK:[Coursera](https://www.coursera.org/)"
   ]
  }
 ],
 "metadata": {
  "kernelspec": {
   "display_name": "Python 3",
   "language": "python",
   "name": "python3"
  },
  "language_info": {
   "codemirror_mode": {
    "name": "ipython",
    "version": 3
   },
   "file_extension": ".py",
   "mimetype": "text/x-python",
   "name": "python",
   "nbconvert_exporter": "python",
   "pygments_lexer": "ipython3",
   "version": "3.8.8"
  }
 },
 "nbformat": 4,
 "nbformat_minor": 5
}
