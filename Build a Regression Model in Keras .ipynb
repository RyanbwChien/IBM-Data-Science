{
 "cells": [
  {
   "cell_type": "markdown",
   "id": "76a06ea1",
   "metadata": {},
   "source": [
    "### First load required libraries:"
   ]
  },
  {
   "cell_type": "code",
   "execution_count": 124,
   "id": "10f5aac5",
   "metadata": {},
   "outputs": [],
   "source": [
    "import pandas as pd\n",
    "import numpy as np\n",
    "import matplotlib.pyplot as plt\n",
    "from sklearn import preprocessing\n",
    "from sklearn.model_selection import train_test_split\n",
    "\n",
    "from keras.models import Sequential\n",
    "from keras.layers import Dense, Dropout, Activation, Flatten, LSTM, TimeDistributed, RepeatVector"
   ]
  },
  {
   "cell_type": "markdown",
   "id": "b42cbf4d",
   "metadata": {},
   "source": [
    "### Load CSV File From URL"
   ]
  },
  {
   "cell_type": "code",
   "execution_count": 202,
   "id": "d03014c7",
   "metadata": {},
   "outputs": [
    {
     "data": {
      "text/html": [
       "<div>\n",
       "<style scoped>\n",
       "    .dataframe tbody tr th:only-of-type {\n",
       "        vertical-align: middle;\n",
       "    }\n",
       "\n",
       "    .dataframe tbody tr th {\n",
       "        vertical-align: top;\n",
       "    }\n",
       "\n",
       "    .dataframe thead th {\n",
       "        text-align: right;\n",
       "    }\n",
       "</style>\n",
       "<table border=\"1\" class=\"dataframe\">\n",
       "  <thead>\n",
       "    <tr style=\"text-align: right;\">\n",
       "      <th></th>\n",
       "      <th>Cement</th>\n",
       "      <th>Blast Furnace Slag</th>\n",
       "      <th>Fly Ash</th>\n",
       "      <th>Water</th>\n",
       "      <th>Superplasticizer</th>\n",
       "      <th>Coarse Aggregate</th>\n",
       "      <th>Fine Aggregate</th>\n",
       "      <th>Age</th>\n",
       "      <th>Strength</th>\n",
       "    </tr>\n",
       "  </thead>\n",
       "  <tbody>\n",
       "    <tr>\n",
       "      <th>0</th>\n",
       "      <td>540.0</td>\n",
       "      <td>0.0</td>\n",
       "      <td>0.0</td>\n",
       "      <td>162.0</td>\n",
       "      <td>2.5</td>\n",
       "      <td>1040.0</td>\n",
       "      <td>676.0</td>\n",
       "      <td>28</td>\n",
       "      <td>79.99</td>\n",
       "    </tr>\n",
       "    <tr>\n",
       "      <th>1</th>\n",
       "      <td>540.0</td>\n",
       "      <td>0.0</td>\n",
       "      <td>0.0</td>\n",
       "      <td>162.0</td>\n",
       "      <td>2.5</td>\n",
       "      <td>1055.0</td>\n",
       "      <td>676.0</td>\n",
       "      <td>28</td>\n",
       "      <td>61.89</td>\n",
       "    </tr>\n",
       "    <tr>\n",
       "      <th>2</th>\n",
       "      <td>332.5</td>\n",
       "      <td>142.5</td>\n",
       "      <td>0.0</td>\n",
       "      <td>228.0</td>\n",
       "      <td>0.0</td>\n",
       "      <td>932.0</td>\n",
       "      <td>594.0</td>\n",
       "      <td>270</td>\n",
       "      <td>40.27</td>\n",
       "    </tr>\n",
       "    <tr>\n",
       "      <th>3</th>\n",
       "      <td>332.5</td>\n",
       "      <td>142.5</td>\n",
       "      <td>0.0</td>\n",
       "      <td>228.0</td>\n",
       "      <td>0.0</td>\n",
       "      <td>932.0</td>\n",
       "      <td>594.0</td>\n",
       "      <td>365</td>\n",
       "      <td>41.05</td>\n",
       "    </tr>\n",
       "    <tr>\n",
       "      <th>4</th>\n",
       "      <td>198.6</td>\n",
       "      <td>132.4</td>\n",
       "      <td>0.0</td>\n",
       "      <td>192.0</td>\n",
       "      <td>0.0</td>\n",
       "      <td>978.4</td>\n",
       "      <td>825.5</td>\n",
       "      <td>360</td>\n",
       "      <td>44.30</td>\n",
       "    </tr>\n",
       "  </tbody>\n",
       "</table>\n",
       "</div>"
      ],
      "text/plain": [
       "   Cement  Blast Furnace Slag  Fly Ash  Water  Superplasticizer  \\\n",
       "0   540.0                 0.0      0.0  162.0               2.5   \n",
       "1   540.0                 0.0      0.0  162.0               2.5   \n",
       "2   332.5               142.5      0.0  228.0               0.0   \n",
       "3   332.5               142.5      0.0  228.0               0.0   \n",
       "4   198.6               132.4      0.0  192.0               0.0   \n",
       "\n",
       "   Coarse Aggregate  Fine Aggregate  Age  Strength  \n",
       "0            1040.0           676.0   28     79.99  \n",
       "1            1055.0           676.0   28     61.89  \n",
       "2             932.0           594.0  270     40.27  \n",
       "3             932.0           594.0  365     41.05  \n",
       "4             978.4           825.5  360     44.30  "
      ]
     },
     "execution_count": 202,
     "metadata": {},
     "output_type": "execute_result"
    }
   ],
   "source": [
    "url=r\"https://cocl.us/concrete_data\"\n",
    "concrete_data=pd.read_csv(url)\n",
    "concrete_data.head(5)"
   ]
  },
  {
   "cell_type": "markdown",
   "id": "df9723b6",
   "metadata": {},
   "source": [
    "The dataset is about the compressive strength of different samples of concrete based on the volumes of the different ingredients that were used to make them. Ingredients include:\n",
    "1. Cement\n",
    "2. Blast Furnace Slag\n",
    "3. Fly Ash\n",
    "4. Water\n",
    "5. Superplasticizer\n",
    "6. Coarse Aggregate\n",
    "7. Fine Aggregate"
   ]
  },
  {
   "cell_type": "code",
   "execution_count": 199,
   "id": "420dcaf7",
   "metadata": {},
   "outputs": [
    {
     "data": {
      "text/plain": [
       "(1030, 9)"
      ]
     },
     "execution_count": 199,
     "metadata": {},
     "output_type": "execute_result"
    }
   ],
   "source": [
    "concrete_data.shape"
   ]
  },
  {
   "cell_type": "markdown",
   "id": "8f370af5",
   "metadata": {},
   "source": [
    "Check each columns datatype of dataset "
   ]
  },
  {
   "cell_type": "code",
   "execution_count": 126,
   "id": "07f791a7",
   "metadata": {},
   "outputs": [
    {
     "data": {
      "text/plain": [
       "Cement                float64\n",
       "Blast Furnace Slag    float64\n",
       "Fly Ash               float64\n",
       "Water                 float64\n",
       "Superplasticizer      float64\n",
       "Coarse Aggregate      float64\n",
       "Fine Aggregate        float64\n",
       "Age                     int64\n",
       "Strength              float64\n",
       "dtype: object"
      ]
     },
     "execution_count": 126,
     "metadata": {},
     "output_type": "execute_result"
    }
   ],
   "source": [
    "concrete_data.dtypes"
   ]
  },
  {
   "cell_type": "markdown",
   "id": "06c8d208",
   "metadata": {},
   "source": [
    "Check each columns whether exist missing value of dataset"
   ]
  },
  {
   "cell_type": "code",
   "execution_count": 127,
   "id": "2eea36a8",
   "metadata": {},
   "outputs": [
    {
     "data": {
      "text/plain": [
       "Cement                0\n",
       "Blast Furnace Slag    0\n",
       "Fly Ash               0\n",
       "Water                 0\n",
       "Superplasticizer      0\n",
       "Coarse Aggregate      0\n",
       "Fine Aggregate        0\n",
       "Age                   0\n",
       "Strength              0\n",
       "dtype: int64"
      ]
     },
     "execution_count": 127,
     "metadata": {},
     "output_type": "execute_result"
    }
   ],
   "source": [
    "pd.isna(concrete_data).sum()"
   ]
  },
  {
   "cell_type": "markdown",
   "id": "24d7e0c1",
   "metadata": {},
   "source": [
    "The data looks no missing valye and is ready to be used to build our model."
   ]
  },
  {
   "cell_type": "code",
   "execution_count": 128,
   "id": "47e7845c",
   "metadata": {},
   "outputs": [],
   "source": [
    "X=concrete_data[concrete_data.columns[:8]]\n",
    "y=pd.DataFrame(concrete_data[\"Strength\"])\n",
    "Xcol=X.columns\n",
    "ycol=y.columns"
   ]
  },
  {
   "cell_type": "markdown",
   "id": "d3a047be",
   "metadata": {},
   "source": [
    "1.Use the Keras library to build a neural network with the following:  \n",
    "2.One hidden layer of 10 nodes, and a ReLU activation function  \n",
    "3.Use the adam optimizer and the mean squared error  as the loss function."
   ]
  },
  {
   "cell_type": "code",
   "execution_count": 203,
   "id": "2bc071ab",
   "metadata": {},
   "outputs": [],
   "source": [
    "model=Sequential()\n",
    "input_number=X.shape[1]\n",
    "model.add(Dense(units=10, input_shape=(input_number,), activation='relu', kernel_initializer='normal')) \n",
    "model.add(Dense(units=1, kernel_initializer='normal')) \n",
    "\n",
    "model.compile(loss='mean_squared_error',\n",
    "              optimizer='adam')"
   ]
  },
  {
   "cell_type": "markdown",
   "id": "785986ca",
   "metadata": {},
   "source": [
    "1.Randomly split the data into a training and test sets by holding 30% of the data for testing."
   ]
  },
  {
   "cell_type": "code",
   "execution_count": 208,
   "id": "ca57f675",
   "metadata": {},
   "outputs": [
    {
     "name": "stdout",
     "output_type": "stream",
     "text": [
      "Traning data sample size:721\n",
      "Validation data sample size:309\n"
     ]
    }
   ],
   "source": [
    "X_train, X_val, y_train, y_val = train_test_split( X, y, test_size=0.3, random_state=1)\n",
    "print(\"Traning data sample size:{}\".format(X_train.shape[0]))\n",
    "print(\"Validation data sample size:{}\".format(X_val.shape[0]))"
   ]
  },
  {
   "cell_type": "markdown",
   "id": "401752c3",
   "metadata": {},
   "source": [
    "2.Train the model on the training data using 50 epochs."
   ]
  },
  {
   "cell_type": "code",
   "execution_count": 209,
   "id": "5745a931",
   "metadata": {},
   "outputs": [
    {
     "name": "stdout",
     "output_type": "stream",
     "text": [
      "Epoch 1/50\n",
      "721/721 [==============================] - 0s 28us/step - loss: 114.8140\n",
      "Epoch 2/50\n",
      "721/721 [==============================] - 0s 21us/step - loss: 112.0856\n",
      "Epoch 3/50\n",
      "721/721 [==============================] - 0s 17us/step - loss: 109.8975\n",
      "Epoch 4/50\n",
      "721/721 [==============================] - 0s 15us/step - loss: 109.9444\n",
      "Epoch 5/50\n",
      "721/721 [==============================] - 0s 19us/step - loss: 109.5572\n",
      "Epoch 6/50\n",
      "721/721 [==============================] - 0s 20us/step - loss: 109.4356\n",
      "Epoch 7/50\n",
      "721/721 [==============================] - 0s 21us/step - loss: 109.0070\n",
      "Epoch 8/50\n",
      "721/721 [==============================] - 0s 20us/step - loss: 109.3973\n",
      "Epoch 9/50\n",
      "721/721 [==============================] - 0s 19us/step - loss: 108.7434\n",
      "Epoch 10/50\n",
      "721/721 [==============================] - 0s 21us/step - loss: 108.1717\n",
      "Epoch 11/50\n",
      "721/721 [==============================] - 0s 20us/step - loss: 109.9838\n",
      "Epoch 12/50\n",
      "721/721 [==============================] - 0s 18us/step - loss: 108.4526\n",
      "Epoch 13/50\n",
      "721/721 [==============================] - 0s 20us/step - loss: 109.1087\n",
      "Epoch 14/50\n",
      "721/721 [==============================] - 0s 18us/step - loss: 107.6220\n",
      "Epoch 15/50\n",
      "721/721 [==============================] - 0s 21us/step - loss: 107.7146\n",
      "Epoch 16/50\n",
      "721/721 [==============================] - 0s 18us/step - loss: 107.4938\n",
      "Epoch 17/50\n",
      "721/721 [==============================] - 0s 18us/step - loss: 107.7822\n",
      "Epoch 18/50\n",
      "721/721 [==============================] - 0s 15us/step - loss: 107.3065\n",
      "Epoch 19/50\n",
      "721/721 [==============================] - 0s 15us/step - loss: 107.2120\n",
      "Epoch 20/50\n",
      "721/721 [==============================] - 0s 21us/step - loss: 106.9406\n",
      "Epoch 21/50\n",
      "721/721 [==============================] - 0s 18us/step - loss: 106.6464\n",
      "Epoch 22/50\n",
      "721/721 [==============================] - ETA: 0s - loss: 141.993 - 0s 18us/step - loss: 107.4279\n",
      "Epoch 23/50\n",
      "721/721 [==============================] - 0s 17us/step - loss: 106.4725\n",
      "Epoch 24/50\n",
      "721/721 [==============================] - 0s 17us/step - loss: 106.5253\n",
      "Epoch 25/50\n",
      "721/721 [==============================] - 0s 18us/step - loss: 106.0198\n",
      "Epoch 26/50\n",
      "721/721 [==============================] - 0s 17us/step - loss: 106.2584\n",
      "Epoch 27/50\n",
      "721/721 [==============================] - 0s 18us/step - loss: 105.7643\n",
      "Epoch 28/50\n",
      "721/721 [==============================] - 0s 15us/step - loss: 106.8509\n",
      "Epoch 29/50\n",
      "721/721 [==============================] - 0s 18us/step - loss: 106.5102\n",
      "Epoch 30/50\n",
      "721/721 [==============================] - 0s 18us/step - loss: 105.4942\n",
      "Epoch 31/50\n",
      "721/721 [==============================] - 0s 17us/step - loss: 105.9549\n",
      "Epoch 32/50\n",
      "721/721 [==============================] - 0s 17us/step - loss: 106.1936\n",
      "Epoch 33/50\n",
      "721/721 [==============================] - 0s 17us/step - loss: 105.8611\n",
      "Epoch 34/50\n",
      "721/721 [==============================] - 0s 19us/step - loss: 105.4710\n",
      "Epoch 35/50\n",
      "721/721 [==============================] - 0s 18us/step - loss: 106.0223\n",
      "Epoch 36/50\n",
      "721/721 [==============================] - 0s 18us/step - loss: 104.9605\n",
      "Epoch 37/50\n",
      "721/721 [==============================] - 0s 17us/step - loss: 104.7383\n",
      "Epoch 38/50\n",
      "721/721 [==============================] - 0s 18us/step - loss: 105.3979\n",
      "Epoch 39/50\n",
      "721/721 [==============================] - 0s 17us/step - loss: 105.2044\n",
      "Epoch 40/50\n",
      "721/721 [==============================] - 0s 18us/step - loss: 104.8888\n",
      "Epoch 41/50\n",
      "721/721 [==============================] - 0s 15us/step - loss: 106.0566\n",
      "Epoch 42/50\n",
      "721/721 [==============================] - 0s 17us/step - loss: 107.2989\n",
      "Epoch 43/50\n",
      "721/721 [==============================] - 0s 18us/step - loss: 105.7678\n",
      "Epoch 44/50\n",
      "721/721 [==============================] - 0s 18us/step - loss: 104.3269\n",
      "Epoch 45/50\n",
      "721/721 [==============================] - 0s 17us/step - loss: 105.2529\n",
      "Epoch 46/50\n",
      "721/721 [==============================] - 0s 17us/step - loss: 104.1621\n",
      "Epoch 47/50\n",
      "721/721 [==============================] - 0s 19us/step - loss: 104.4338\n",
      "Epoch 48/50\n",
      "721/721 [==============================] - 0s 18us/step - loss: 104.4330\n",
      "Epoch 49/50\n",
      "721/721 [==============================] - ETA: 0s - loss: 137.280 - 0s 17us/step - loss: 104.6341\n",
      "Epoch 50/50\n",
      "721/721 [==============================] - 0s 17us/step - loss: 106.9427\n"
     ]
    },
    {
     "data": {
      "text/plain": [
       "<keras.callbacks.callbacks.History at 0x16c5f34fef0>"
      ]
     },
     "execution_count": 209,
     "metadata": {},
     "output_type": "execute_result"
    }
   ],
   "source": [
    "model.fit(X_train,y_train, epochs=50, verbose=1)"
   ]
  },
  {
   "cell_type": "markdown",
   "id": "3889fe0d",
   "metadata": {},
   "source": [
    "3.Evaluate the model on the test data and compute the mean squared error between the predicted concrete strength and the actual concrete strength."
   ]
  },
  {
   "cell_type": "code",
   "execution_count": 210,
   "id": "94df8db7",
   "metadata": {},
   "outputs": [
    {
     "name": "stdout",
     "output_type": "stream",
     "text": [
      "309/309 [==============================] - 0s 13us/step\n"
     ]
    },
    {
     "data": {
      "text/plain": [
       "122.35797968497168"
      ]
     },
     "execution_count": 210,
     "metadata": {},
     "output_type": "execute_result"
    }
   ],
   "source": [
    "loss_val = model.evaluate(X_val, y_val)\n",
    "loss_val #mean_squared_error"
   ]
  },
  {
   "cell_type": "markdown",
   "id": "60469758",
   "metadata": {},
   "source": [
    "4.Repeat steps 1 - 3, 50 times."
   ]
  },
  {
   "cell_type": "code",
   "execution_count": 211,
   "id": "a461f496",
   "metadata": {},
   "outputs": [
    {
     "name": "stdout",
     "output_type": "stream",
     "text": [
      "Run0 MSE:93.92974309552099\n",
      "Run1 MSE:122.02917363861279\n",
      "Run2 MSE:109.2966000461049\n",
      "Run3 MSE:121.32451687411883\n",
      "Run4 MSE:122.68871761445745\n",
      "Run5 MSE:106.73459680212343\n",
      "Run6 MSE:132.53396341386417\n",
      "Run7 MSE:96.91174987829135\n",
      "Run8 MSE:120.6210599653331\n",
      "Run9 MSE:109.01985670500258\n",
      "Run10 MSE:102.09172986679762\n",
      "Run11 MSE:100.1755602419504\n",
      "Run12 MSE:114.71989391360611\n",
      "Run13 MSE:116.3966272716535\n",
      "Run14 MSE:108.92657052409135\n",
      "Run15 MSE:104.54907691892794\n",
      "Run16 MSE:104.17816682284096\n",
      "Run17 MSE:97.21940970261107\n",
      "Run18 MSE:95.69949586290258\n",
      "Run19 MSE:114.09486862249967\n",
      "Run20 MSE:98.27805111160177\n",
      "Run21 MSE:102.63163973609741\n",
      "Run22 MSE:107.40406480398975\n",
      "Run23 MSE:103.09774943619965\n",
      "Run24 MSE:107.5629532594735\n",
      "Run25 MSE:99.44427860648847\n",
      "Run26 MSE:119.95224069811472\n",
      "Run27 MSE:108.94458631859432\n",
      "Run28 MSE:109.00373005801092\n",
      "Run29 MSE:112.58887893539189\n",
      "Run30 MSE:128.42290092071352\n",
      "Run31 MSE:105.2921579142793\n",
      "Run32 MSE:100.64807236149394\n",
      "Run33 MSE:108.43344560802306\n",
      "Run34 MSE:111.57579804772108\n",
      "Run35 MSE:125.19346852381098\n",
      "Run36 MSE:117.93577171855667\n",
      "Run37 MSE:113.36424781800115\n",
      "Run38 MSE:107.8437725132755\n",
      "Run39 MSE:113.19795499135968\n",
      "Run40 MSE:118.52279381023372\n",
      "Run41 MSE:110.22687088926487\n",
      "Run42 MSE:107.3193572359118\n",
      "Run43 MSE:106.1872644836118\n",
      "Run44 MSE:114.03768043038059\n",
      "Run45 MSE:113.86069325197892\n",
      "Run46 MSE:110.90619910026686\n",
      "Run47 MSE:113.9215601921138\n",
      "Run48 MSE:102.00280273306797\n",
      "Run49 MSE:109.2563722118049\n"
     ]
    }
   ],
   "source": [
    "MSE=[]\n",
    "repeat=50\n",
    "for i in range(repeat):\n",
    "    X_train, X_val, y_train, y_val = train_test_split( X, y, test_size=0.3, random_state=i)\n",
    "    train_model =model.fit(X_train,y_train, epochs=50, batch_size=len(X_train), verbose=0, shuffle=True)\n",
    "    prediction=model.predict(X_val)\n",
    "    error=np.array(y_val).reshape(-1,1)-np.array(prediction).reshape(-1,1)\n",
    "    mse=1/len(error)*(error.T.dot(error))\n",
    "    mse=mean_squared_error(prediction,y_val)\n",
    "    print('Run{} MSE:{}'.format(i,mse))\n",
    "    MSE.append(mse)"
   ]
  },
  {
   "cell_type": "markdown",
   "id": "7bc3cbc3",
   "metadata": {},
   "source": [
    "5.Report the mean and the standard deviation of the mean squared errors."
   ]
  },
  {
   "cell_type": "code",
   "execution_count": 212,
   "id": "39e65142",
   "metadata": {},
   "outputs": [
    {
     "name": "stdout",
     "output_type": "stream",
     "text": [
      "Below is the mean and standard deviation of 50 mean squared errors without normalized data.\n",
      "Total number of epochs for each training is: 50\n",
      "mean MSE:110.00397471002285\n",
      "Standard Deviation:8.508156052724244\n"
     ]
    }
   ],
   "source": [
    "Mean_MSE=np.mean(MSE)\n",
    "STD_MSE=np.std(MSE)\n",
    "print(\"Below is the mean and standard deviation of {i} mean squared errors without normalized data.\\n\\\n",
    "Total number of epochs for each training is: {i}\".format(i=repeat))\n",
    "print(\"mean MSE:{}\".format(Mean_MSE))\n",
    "print(\"Standard Deviation:{}\".format(STD_MSE))"
   ]
  }
 ],
 "metadata": {
  "kernelspec": {
   "display_name": "Python 3",
   "language": "python",
   "name": "python3"
  },
  "language_info": {
   "codemirror_mode": {
    "name": "ipython",
    "version": 3
   },
   "file_extension": ".py",
   "mimetype": "text/x-python",
   "name": "python",
   "nbconvert_exporter": "python",
   "pygments_lexer": "ipython3",
   "version": "3.6.13"
  }
 },
 "nbformat": 4,
 "nbformat_minor": 5
}
