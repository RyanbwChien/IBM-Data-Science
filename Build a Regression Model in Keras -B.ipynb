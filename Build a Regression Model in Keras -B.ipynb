{
 "cells": [
  {
   "cell_type": "markdown",
   "id": "4aafefb4",
   "metadata": {},
   "source": [
    "### First load required libraries:"
   ]
  },
  {
   "cell_type": "code",
   "execution_count": 57,
   "id": "b5035d53",
   "metadata": {},
   "outputs": [],
   "source": [
    "import pandas as pd\n",
    "import numpy as np\n",
    "import matplotlib.pyplot as plt\n",
    "from sklearn import preprocessing\n",
    "from sklearn.model_selection import train_test_split\n",
    "\n",
    "from keras.models import Sequential\n",
    "from keras.layers import Dense, Dropout, Activation, Flatten, LSTM, TimeDistributed, RepeatVector"
   ]
  },
  {
   "cell_type": "markdown",
   "id": "26d0c1e7",
   "metadata": {},
   "source": [
    "### Load CSV File From URL"
   ]
  },
  {
   "cell_type": "code",
   "execution_count": 58,
   "id": "6b7ef0e0",
   "metadata": {},
   "outputs": [
    {
     "data": {
      "text/html": [
       "<div>\n",
       "<style scoped>\n",
       "    .dataframe tbody tr th:only-of-type {\n",
       "        vertical-align: middle;\n",
       "    }\n",
       "\n",
       "    .dataframe tbody tr th {\n",
       "        vertical-align: top;\n",
       "    }\n",
       "\n",
       "    .dataframe thead th {\n",
       "        text-align: right;\n",
       "    }\n",
       "</style>\n",
       "<table border=\"1\" class=\"dataframe\">\n",
       "  <thead>\n",
       "    <tr style=\"text-align: right;\">\n",
       "      <th></th>\n",
       "      <th>Cement</th>\n",
       "      <th>Blast Furnace Slag</th>\n",
       "      <th>Fly Ash</th>\n",
       "      <th>Water</th>\n",
       "      <th>Superplasticizer</th>\n",
       "      <th>Coarse Aggregate</th>\n",
       "      <th>Fine Aggregate</th>\n",
       "      <th>Age</th>\n",
       "      <th>Strength</th>\n",
       "    </tr>\n",
       "  </thead>\n",
       "  <tbody>\n",
       "    <tr>\n",
       "      <th>0</th>\n",
       "      <td>540.0</td>\n",
       "      <td>0.0</td>\n",
       "      <td>0.0</td>\n",
       "      <td>162.0</td>\n",
       "      <td>2.5</td>\n",
       "      <td>1040.0</td>\n",
       "      <td>676.0</td>\n",
       "      <td>28</td>\n",
       "      <td>79.99</td>\n",
       "    </tr>\n",
       "    <tr>\n",
       "      <th>1</th>\n",
       "      <td>540.0</td>\n",
       "      <td>0.0</td>\n",
       "      <td>0.0</td>\n",
       "      <td>162.0</td>\n",
       "      <td>2.5</td>\n",
       "      <td>1055.0</td>\n",
       "      <td>676.0</td>\n",
       "      <td>28</td>\n",
       "      <td>61.89</td>\n",
       "    </tr>\n",
       "    <tr>\n",
       "      <th>2</th>\n",
       "      <td>332.5</td>\n",
       "      <td>142.5</td>\n",
       "      <td>0.0</td>\n",
       "      <td>228.0</td>\n",
       "      <td>0.0</td>\n",
       "      <td>932.0</td>\n",
       "      <td>594.0</td>\n",
       "      <td>270</td>\n",
       "      <td>40.27</td>\n",
       "    </tr>\n",
       "    <tr>\n",
       "      <th>3</th>\n",
       "      <td>332.5</td>\n",
       "      <td>142.5</td>\n",
       "      <td>0.0</td>\n",
       "      <td>228.0</td>\n",
       "      <td>0.0</td>\n",
       "      <td>932.0</td>\n",
       "      <td>594.0</td>\n",
       "      <td>365</td>\n",
       "      <td>41.05</td>\n",
       "    </tr>\n",
       "    <tr>\n",
       "      <th>4</th>\n",
       "      <td>198.6</td>\n",
       "      <td>132.4</td>\n",
       "      <td>0.0</td>\n",
       "      <td>192.0</td>\n",
       "      <td>0.0</td>\n",
       "      <td>978.4</td>\n",
       "      <td>825.5</td>\n",
       "      <td>360</td>\n",
       "      <td>44.30</td>\n",
       "    </tr>\n",
       "  </tbody>\n",
       "</table>\n",
       "</div>"
      ],
      "text/plain": [
       "   Cement  Blast Furnace Slag  Fly Ash  Water  Superplasticizer  \\\n",
       "0   540.0                 0.0      0.0  162.0               2.5   \n",
       "1   540.0                 0.0      0.0  162.0               2.5   \n",
       "2   332.5               142.5      0.0  228.0               0.0   \n",
       "3   332.5               142.5      0.0  228.0               0.0   \n",
       "4   198.6               132.4      0.0  192.0               0.0   \n",
       "\n",
       "   Coarse Aggregate  Fine Aggregate  Age  Strength  \n",
       "0            1040.0           676.0   28     79.99  \n",
       "1            1055.0           676.0   28     61.89  \n",
       "2             932.0           594.0  270     40.27  \n",
       "3             932.0           594.0  365     41.05  \n",
       "4             978.4           825.5  360     44.30  "
      ]
     },
     "execution_count": 58,
     "metadata": {},
     "output_type": "execute_result"
    }
   ],
   "source": [
    "url=r\"https://cocl.us/concrete_data\"\n",
    "concrete_data=pd.read_csv(url)\n",
    "concrete_data.head(5)"
   ]
  },
  {
   "cell_type": "markdown",
   "id": "1484efd3",
   "metadata": {},
   "source": [
    "The dataset is about the compressive strength of different samples of concrete based on the volumes of the different ingredients that were used to make them. Ingredients include:\n",
    "1. Cement\n",
    "2. Blast Furnace Slag\n",
    "3. Fly Ash\n",
    "4. Water\n",
    "5. Superplasticizer\n",
    "6. Coarse Aggregate\n",
    "7. Fine Aggregate"
   ]
  },
  {
   "cell_type": "code",
   "execution_count": 59,
   "id": "4df04d61",
   "metadata": {},
   "outputs": [
    {
     "data": {
      "text/plain": [
       "(1030, 9)"
      ]
     },
     "execution_count": 59,
     "metadata": {},
     "output_type": "execute_result"
    }
   ],
   "source": [
    "concrete_data.shape"
   ]
  },
  {
   "cell_type": "markdown",
   "id": "149e199a",
   "metadata": {},
   "source": [
    "Check each columns datatype of dataset "
   ]
  },
  {
   "cell_type": "code",
   "execution_count": 60,
   "id": "0871c237",
   "metadata": {},
   "outputs": [
    {
     "data": {
      "text/plain": [
       "Cement                float64\n",
       "Blast Furnace Slag    float64\n",
       "Fly Ash               float64\n",
       "Water                 float64\n",
       "Superplasticizer      float64\n",
       "Coarse Aggregate      float64\n",
       "Fine Aggregate        float64\n",
       "Age                     int64\n",
       "Strength              float64\n",
       "dtype: object"
      ]
     },
     "execution_count": 60,
     "metadata": {},
     "output_type": "execute_result"
    }
   ],
   "source": [
    "concrete_data.dtypes"
   ]
  },
  {
   "cell_type": "markdown",
   "id": "74a9b02a",
   "metadata": {},
   "source": [
    "Check each columns whether exist missing value of dataset"
   ]
  },
  {
   "cell_type": "code",
   "execution_count": 61,
   "id": "17b192ce",
   "metadata": {},
   "outputs": [
    {
     "data": {
      "text/plain": [
       "Cement                0\n",
       "Blast Furnace Slag    0\n",
       "Fly Ash               0\n",
       "Water                 0\n",
       "Superplasticizer      0\n",
       "Coarse Aggregate      0\n",
       "Fine Aggregate        0\n",
       "Age                   0\n",
       "Strength              0\n",
       "dtype: int64"
      ]
     },
     "execution_count": 61,
     "metadata": {},
     "output_type": "execute_result"
    }
   ],
   "source": [
    "pd.isna(concrete_data).sum()"
   ]
  },
  {
   "cell_type": "markdown",
   "id": "cec1b103",
   "metadata": {},
   "source": [
    "The data looks no missing valye and is ready to be used to build our model."
   ]
  },
  {
   "cell_type": "code",
   "execution_count": 62,
   "id": "ab53ccea",
   "metadata": {},
   "outputs": [],
   "source": [
    "X=concrete_data[concrete_data.columns[:8]]\n",
    "y=pd.DataFrame(concrete_data[\"Strength\"])\n",
    "Xcol=X.columns\n",
    "ycol=y.columns"
   ]
  },
  {
   "cell_type": "markdown",
   "id": "c0fdb179",
   "metadata": {},
   "source": [
    "## Normalize Data"
   ]
  },
  {
   "cell_type": "markdown",
   "id": "030bace1",
   "metadata": {},
   "source": [
    "Repeat Part A but use a normalized version of the data"
   ]
  },
  {
   "cell_type": "code",
   "execution_count": 63,
   "id": "0fc7e201",
   "metadata": {},
   "outputs": [
    {
     "name": "stdout",
     "output_type": "stream",
     "text": [
      "Independent variable of dataset:\n",
      "      Cement  Blast Furnace Slag   Fly Ash     Water  Superplasticizer  \\\n",
      "0  2.477915           -0.856888 -0.847144 -0.916764         -0.620448   \n",
      "1  2.477915           -0.856888 -0.847144 -0.916764         -0.620448   \n",
      "2  0.491425            0.795526 -0.847144  2.175461         -1.039143   \n",
      "3  0.491425            0.795526 -0.847144  2.175461         -1.039143   \n",
      "4 -0.790459            0.678408 -0.847144  0.488793         -1.039143   \n",
      "\n",
      "   Coarse Aggregate  Fine Aggregate       Age  \n",
      "0          0.863154       -1.217670 -0.279733  \n",
      "1          1.056164       -1.217670 -0.279733  \n",
      "2         -0.526517       -2.240917  3.553066  \n",
      "3         -0.526517       -2.240917  5.057677  \n",
      "4          0.070527        0.647884  4.978487  \n",
      "\n",
      "\n",
      "Dependent variable of dataset:\n",
      "    Strength\n",
      "0  2.645408\n",
      "1  1.561421\n",
      "2  0.266627\n",
      "3  0.313340\n",
      "4  0.507979\n"
     ]
    }
   ],
   "source": [
    "stdard_x=preprocessing.StandardScaler()\n",
    "stdard_y=preprocessing.StandardScaler()\n",
    "X= stdard_x.fit_transform(X)\n",
    "X=pd.DataFrame(X,columns=Xcol)\n",
    "X[0:5]\n",
    "y= stdard_y.fit_transform(y)\n",
    "y=pd.DataFrame(y,columns=ycol)\n",
    "print(\"Independent variable of dataset:\\n {}\\n\\n\".format(X.head()))\n",
    "print(\"Dependent variable of dataset:\\n {}\".format(y.head()))"
   ]
  },
  {
   "cell_type": "markdown",
   "id": "0a1ea39b",
   "metadata": {},
   "source": [
    "1.Use the Keras library to build a neural network with the following:  \n",
    "2.One hidden layer of 10 nodes, and a ReLU activation function  \n",
    "3.Use the adam optimizer and the mean squared error  as the loss function."
   ]
  },
  {
   "cell_type": "code",
   "execution_count": 64,
   "id": "77593cde",
   "metadata": {},
   "outputs": [],
   "source": [
    "model=Sequential()\n",
    "input_number=X.shape[1]\n",
    "model.add(Dense(units=10, input_shape=(input_number,), activation='relu', kernel_initializer='normal')) \n",
    "model.add(Dense(units=1, kernel_initializer='normal')) \n",
    "\n",
    "model.compile(loss='mean_squared_error',\n",
    "              optimizer='adam')"
   ]
  },
  {
   "cell_type": "markdown",
   "id": "6cfd6070",
   "metadata": {},
   "source": [
    "1.Randomly split the data into a training and test sets by holding 30% of the data for testing."
   ]
  },
  {
   "cell_type": "code",
   "execution_count": 65,
   "id": "1260c2c6",
   "metadata": {},
   "outputs": [
    {
     "name": "stdout",
     "output_type": "stream",
     "text": [
      "Traning data sample size:721\n",
      "Validation data sample size:309\n"
     ]
    }
   ],
   "source": [
    "X_train, X_val, y_train, y_val = train_test_split( X, y, test_size=0.3, random_state=1)\n",
    "print(\"Traning data sample size:{}\".format(X_train.shape[0]))\n",
    "print(\"Validation data sample size:{}\".format(X_val.shape[0]))"
   ]
  },
  {
   "cell_type": "markdown",
   "id": "a8f718bf",
   "metadata": {},
   "source": [
    "2.Train the model on the training data using 50 epochs."
   ]
  },
  {
   "cell_type": "code",
   "execution_count": 66,
   "id": "e2d38cc5",
   "metadata": {},
   "outputs": [
    {
     "name": "stdout",
     "output_type": "stream",
     "text": [
      "Epoch 1/50\n",
      "721/721 [==============================] - 0s 82us/step - loss: 1.0065\n",
      "Epoch 2/50\n",
      "721/721 [==============================] - 0s 18us/step - loss: 0.9667\n",
      "Epoch 3/50\n",
      "721/721 [==============================] - 0s 17us/step - loss: 0.8989\n",
      "Epoch 4/50\n",
      "721/721 [==============================] - 0s 18us/step - loss: 0.8008\n",
      "Epoch 5/50\n",
      "721/721 [==============================] - 0s 18us/step - loss: 0.6847\n",
      "Epoch 6/50\n",
      "721/721 [==============================] - 0s 15us/step - loss: 0.5752\n",
      "Epoch 7/50\n",
      "721/721 [==============================] - 0s 15us/step - loss: 0.4857\n",
      "Epoch 8/50\n",
      "721/721 [==============================] - 0s 17us/step - loss: 0.4271\n",
      "Epoch 9/50\n",
      "721/721 [==============================] - 0s 17us/step - loss: 0.3902\n",
      "Epoch 10/50\n",
      "721/721 [==============================] - 0s 22us/step - loss: 0.3692\n",
      "Epoch 11/50\n",
      "721/721 [==============================] - 0s 17us/step - loss: 0.3560\n",
      "Epoch 12/50\n",
      "721/721 [==============================] - 0s 14us/step - loss: 0.3451\n",
      "Epoch 13/50\n",
      "721/721 [==============================] - 0s 17us/step - loss: 0.3356\n",
      "Epoch 14/50\n",
      "721/721 [==============================] - 0s 17us/step - loss: 0.3263\n",
      "Epoch 15/50\n",
      "721/721 [==============================] - 0s 18us/step - loss: 0.3184\n",
      "Epoch 16/50\n",
      "721/721 [==============================] - 0s 15us/step - loss: 0.3099\n",
      "Epoch 17/50\n",
      "721/721 [==============================] - 0s 17us/step - loss: 0.3013\n",
      "Epoch 18/50\n",
      "721/721 [==============================] - 0s 18us/step - loss: 0.2939\n",
      "Epoch 19/50\n",
      "721/721 [==============================] - 0s 17us/step - loss: 0.2859\n",
      "Epoch 20/50\n",
      "721/721 [==============================] - 0s 15us/step - loss: 0.2776\n",
      "Epoch 21/50\n",
      "721/721 [==============================] - 0s 17us/step - loss: 0.2707\n",
      "Epoch 22/50\n",
      "721/721 [==============================] - 0s 17us/step - loss: 0.2636\n",
      "Epoch 23/50\n",
      "721/721 [==============================] - 0s 15us/step - loss: 0.2572\n",
      "Epoch 24/50\n",
      "721/721 [==============================] - 0s 17us/step - loss: 0.2492\n",
      "Epoch 25/50\n",
      "721/721 [==============================] - 0s 17us/step - loss: 0.2433\n",
      "Epoch 26/50\n",
      "721/721 [==============================] - 0s 17us/step - loss: 0.2366\n",
      "Epoch 27/50\n",
      "721/721 [==============================] - 0s 15us/step - loss: 0.2305\n",
      "Epoch 28/50\n",
      "721/721 [==============================] - 0s 15us/step - loss: 0.2249\n",
      "Epoch 29/50\n",
      "721/721 [==============================] - 0s 17us/step - loss: 0.2193\n",
      "Epoch 30/50\n",
      "721/721 [==============================] - 0s 17us/step - loss: 0.2143\n",
      "Epoch 31/50\n",
      "721/721 [==============================] - 0s 17us/step - loss: 0.2090\n",
      "Epoch 32/50\n",
      "721/721 [==============================] - 0s 15us/step - loss: 0.2041\n",
      "Epoch 33/50\n",
      "721/721 [==============================] - 0s 18us/step - loss: 0.1993\n",
      "Epoch 34/50\n",
      "721/721 [==============================] - 0s 17us/step - loss: 0.1958\n",
      "Epoch 35/50\n",
      "721/721 [==============================] - 0s 15us/step - loss: 0.1920\n",
      "Epoch 36/50\n",
      "721/721 [==============================] - 0s 17us/step - loss: 0.1898\n",
      "Epoch 37/50\n",
      "721/721 [==============================] - 0s 18us/step - loss: 0.1850\n",
      "Epoch 38/50\n",
      "721/721 [==============================] - 0s 17us/step - loss: 0.1826\n",
      "Epoch 39/50\n",
      "721/721 [==============================] - 0s 15us/step - loss: 0.1799\n",
      "Epoch 40/50\n",
      "721/721 [==============================] - 0s 19us/step - loss: 0.1775\n",
      "Epoch 41/50\n",
      "721/721 [==============================] - 0s 18us/step - loss: 0.1752\n",
      "Epoch 42/50\n",
      "721/721 [==============================] - 0s 17us/step - loss: 0.1745\n",
      "Epoch 43/50\n",
      "721/721 [==============================] - 0s 17us/step - loss: 0.1713\n",
      "Epoch 44/50\n",
      "721/721 [==============================] - 0s 15us/step - loss: 0.1697\n",
      "Epoch 45/50\n",
      "721/721 [==============================] - 0s 17us/step - loss: 0.1688\n",
      "Epoch 46/50\n",
      "721/721 [==============================] - 0s 17us/step - loss: 0.1663\n",
      "Epoch 47/50\n",
      "721/721 [==============================] - 0s 17us/step - loss: 0.1642\n",
      "Epoch 48/50\n",
      "721/721 [==============================] - 0s 17us/step - loss: 0.1632\n",
      "Epoch 49/50\n",
      "721/721 [==============================] - 0s 18us/step - loss: 0.1615\n",
      "Epoch 50/50\n",
      "721/721 [==============================] - 0s 17us/step - loss: 0.1602\n"
     ]
    },
    {
     "data": {
      "text/plain": [
       "<keras.callbacks.callbacks.History at 0x2287709fac8>"
      ]
     },
     "execution_count": 66,
     "metadata": {},
     "output_type": "execute_result"
    }
   ],
   "source": [
    "model.fit(X_train,y_train, epochs=50, verbose=1)"
   ]
  },
  {
   "cell_type": "markdown",
   "id": "cde301a6",
   "metadata": {},
   "source": [
    "3.Evaluate the model on the test data and compute the mean squared error between the predicted concrete strength and the actual concrete strength."
   ]
  },
  {
   "cell_type": "code",
   "execution_count": 67,
   "id": "940f5ddd",
   "metadata": {},
   "outputs": [
    {
     "name": "stdout",
     "output_type": "stream",
     "text": [
      "309/309 [==============================] - 0s 29us/step\n"
     ]
    },
    {
     "data": {
      "text/plain": [
       "0.20906905882952667"
      ]
     },
     "execution_count": 67,
     "metadata": {},
     "output_type": "execute_result"
    }
   ],
   "source": [
    "loss_val = model.evaluate(X_val, y_val)\n",
    "loss_val #mean_squared_error"
   ]
  },
  {
   "cell_type": "markdown",
   "id": "2d1aeefb",
   "metadata": {},
   "source": [
    "4.Repeat steps 1 - 3, 50 times."
   ]
  },
  {
   "cell_type": "code",
   "execution_count": 68,
   "id": "0427d8be",
   "metadata": {},
   "outputs": [
    {
     "name": "stdout",
     "output_type": "stream",
     "text": [
      "Run0 MSE:45.542641512136534\n",
      "Run1 MSE:57.010992885339554\n",
      "Run2 MSE:43.77906412640339\n",
      "Run3 MSE:46.56935153276122\n",
      "Run4 MSE:47.20620462624733\n",
      "Run5 MSE:50.71808637990092\n",
      "Run6 MSE:51.20799419970516\n",
      "Run7 MSE:39.56296089112595\n",
      "Run8 MSE:45.370109849982484\n",
      "Run9 MSE:44.62346802964511\n",
      "Run10 MSE:43.52588749477351\n",
      "Run11 MSE:41.52573911718265\n",
      "Run12 MSE:48.8542242514173\n",
      "Run13 MSE:49.1517722721104\n",
      "Run14 MSE:42.01570317297936\n",
      "Run15 MSE:37.01650294540703\n",
      "Run16 MSE:39.654176043081435\n",
      "Run17 MSE:39.545741401521646\n",
      "Run18 MSE:37.52179336782\n",
      "Run19 MSE:39.48707996853255\n",
      "Run20 MSE:36.250420947752424\n",
      "Run21 MSE:37.76000567629153\n",
      "Run22 MSE:33.65813370133623\n",
      "Run23 MSE:38.1890770228628\n",
      "Run24 MSE:37.57086969307518\n",
      "Run25 MSE:40.247177423409624\n",
      "Run26 MSE:35.49162030111694\n",
      "Run27 MSE:34.61197802842294\n",
      "Run28 MSE:40.006524513912595\n",
      "Run29 MSE:38.20432614011748\n",
      "Run30 MSE:33.88631475724986\n",
      "Run31 MSE:35.16874040785519\n",
      "Run32 MSE:34.55236770788876\n",
      "Run33 MSE:37.31104271565255\n",
      "Run34 MSE:37.60615116817233\n",
      "Run35 MSE:43.56526037691111\n",
      "Run36 MSE:34.377673230268854\n",
      "Run37 MSE:38.36194389428814\n",
      "Run38 MSE:35.822548789513256\n",
      "Run39 MSE:31.98888745439104\n",
      "Run40 MSE:36.6009826756461\n",
      "Run41 MSE:30.86149876324282\n",
      "Run42 MSE:36.59784432830088\n",
      "Run43 MSE:40.29640270487629\n",
      "Run44 MSE:38.73250977971084\n",
      "Run45 MSE:36.176973522253405\n",
      "Run46 MSE:35.77549475978951\n",
      "Run47 MSE:36.97158411838508\n",
      "Run48 MSE:38.331025118248824\n",
      "Run49 MSE:39.01396436982888\n"
     ]
    }
   ],
   "source": [
    "MSE=[]\n",
    "repeat=50\n",
    "for i in range(repeat):\n",
    "    X_train, X_val, y_train, y_val = train_test_split( X, y, test_size=0.3, random_state=i)\n",
    "    train_model =model.fit(X_train,y_train, epochs=50, batch_size=len(X_train), verbose=0, shuffle=True)\n",
    "    prediction=model.predict(X_val)\n",
    "    prediction_inverse=stdard_y.inverse_transform(prediction)\n",
    "    y_val_inverse=stdard_y.inverse_transform(y_val)\n",
    "    error=np.array(y_val_inverse).reshape(-1,1)-np.array(prediction_inverse).reshape(-1,1)\n",
    "    mse=1/len(error)*(error.T.dot(error))\n",
    "    print('Run{} MSE:{}'.format(i,mse[0][0]))\n",
    "    MSE.append(mse)"
   ]
  },
  {
   "cell_type": "markdown",
   "id": "42e8059a",
   "metadata": {},
   "source": [
    "5.Report the mean and the standard deviation of the mean squared errors."
   ]
  },
  {
   "cell_type": "code",
   "execution_count": 72,
   "id": "9a914d8b",
   "metadata": {},
   "outputs": [
    {
     "name": "stdout",
     "output_type": "stream",
     "text": [
      "Below is the mean and standard deviation of 50 mean squared errors with normalized data.\n",
      "Total number of epochs for each training is: 50\n",
      "mean of MSE:39.877576763176904\n",
      "Std of MSE:5.334894408546133\n"
     ]
    }
   ],
   "source": [
    "Mean_MSE=np.mean(MSE)\n",
    "STD_MSE=np.std(MSE)\n",
    "print(\"Below is the mean and standard deviation of {i} mean squared errors with normalized data.\\n\\\n",
    "Total number of epochs for each training is: {i}\".format(i=repeat))\n",
    "print(\"mean of MSE:{}\".format(Mean_MSE))\n",
    "print(\"Std of MSE:{}\".format(STD_MSE))"
   ]
  },
  {
   "cell_type": "markdown",
   "id": "a5575f07",
   "metadata": {},
   "source": [
    "How does the mean of the mean squared errors compare to that from Step A?"
   ]
  },
  {
   "cell_type": "code",
   "execution_count": 80,
   "id": "5c5abb56",
   "metadata": {},
   "outputs": [
    {
     "name": "stdout",
     "output_type": "stream",
     "text": [
      "Comparesion table with and without Normalized\n",
      "   Mean_MSE Normalized  Std_MSE\n",
      "0   110.004    without    8.508\n",
      "1    39.877       with    5.335\n"
     ]
    }
   ],
   "source": [
    "compare_result=pd.DataFrame({\"Normalized\":[\"without\",\"with\"],\"Mean_MSE\":[110.004,39.877],\"Std_MSE\":[8.508,5.335]})\n",
    "print(\"Comparesion table with and without Normalized\")\n",
    "print(compare_result)"
   ]
  },
  {
   "cell_type": "markdown",
   "id": "c9d637db",
   "metadata": {},
   "source": [
    "Mean of the mean squared errors compare to that from Step A(without Normalized)  \n",
    "We can see the mean_MSE and Std_MSE significantly reduced after proceed Normalized. "
   ]
  },
  {
   "cell_type": "code",
   "execution_count": null,
   "id": "a40728bd",
   "metadata": {},
   "outputs": [],
   "source": []
  }
 ],
 "metadata": {
  "kernelspec": {
   "display_name": "Python 3",
   "language": "python",
   "name": "python3"
  },
  "language_info": {
   "codemirror_mode": {
    "name": "ipython",
    "version": 3
   },
   "file_extension": ".py",
   "mimetype": "text/x-python",
   "name": "python",
   "nbconvert_exporter": "python",
   "pygments_lexer": "ipython3",
   "version": "3.6.13"
  }
 },
 "nbformat": 4,
 "nbformat_minor": 5
}
