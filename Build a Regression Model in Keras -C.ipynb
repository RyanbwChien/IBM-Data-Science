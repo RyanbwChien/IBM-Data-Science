{
 "cells": [
  {
   "cell_type": "markdown",
   "id": "83bcacae",
   "metadata": {},
   "source": [
    "### First load required libraries:"
   ]
  },
  {
   "cell_type": "code",
   "execution_count": 1,
   "id": "c8634142",
   "metadata": {},
   "outputs": [
    {
     "name": "stderr",
     "output_type": "stream",
     "text": [
      "Using TensorFlow backend.\n"
     ]
    }
   ],
   "source": [
    "import pandas as pd\n",
    "import numpy as np\n",
    "import matplotlib.pyplot as plt\n",
    "from sklearn import preprocessing\n",
    "from sklearn.model_selection import train_test_split\n",
    "\n",
    "from keras.models import Sequential\n",
    "from keras.layers import Dense, Dropout, Activation, Flatten, LSTM, TimeDistributed, RepeatVector"
   ]
  },
  {
   "cell_type": "markdown",
   "id": "711b2ef6",
   "metadata": {},
   "source": [
    "### Load CSV File From URL"
   ]
  },
  {
   "cell_type": "code",
   "execution_count": 13,
   "id": "348ce414",
   "metadata": {},
   "outputs": [
    {
     "data": {
      "text/html": [
       "<div>\n",
       "<style scoped>\n",
       "    .dataframe tbody tr th:only-of-type {\n",
       "        vertical-align: middle;\n",
       "    }\n",
       "\n",
       "    .dataframe tbody tr th {\n",
       "        vertical-align: top;\n",
       "    }\n",
       "\n",
       "    .dataframe thead th {\n",
       "        text-align: right;\n",
       "    }\n",
       "</style>\n",
       "<table border=\"1\" class=\"dataframe\">\n",
       "  <thead>\n",
       "    <tr style=\"text-align: right;\">\n",
       "      <th></th>\n",
       "      <th>Cement</th>\n",
       "      <th>Blast Furnace Slag</th>\n",
       "      <th>Fly Ash</th>\n",
       "      <th>Water</th>\n",
       "      <th>Superplasticizer</th>\n",
       "      <th>Coarse Aggregate</th>\n",
       "      <th>Fine Aggregate</th>\n",
       "      <th>Age</th>\n",
       "      <th>Strength</th>\n",
       "    </tr>\n",
       "  </thead>\n",
       "  <tbody>\n",
       "    <tr>\n",
       "      <th>0</th>\n",
       "      <td>540.0</td>\n",
       "      <td>0.0</td>\n",
       "      <td>0.0</td>\n",
       "      <td>162.0</td>\n",
       "      <td>2.5</td>\n",
       "      <td>1040.0</td>\n",
       "      <td>676.0</td>\n",
       "      <td>28</td>\n",
       "      <td>79.99</td>\n",
       "    </tr>\n",
       "    <tr>\n",
       "      <th>1</th>\n",
       "      <td>540.0</td>\n",
       "      <td>0.0</td>\n",
       "      <td>0.0</td>\n",
       "      <td>162.0</td>\n",
       "      <td>2.5</td>\n",
       "      <td>1055.0</td>\n",
       "      <td>676.0</td>\n",
       "      <td>28</td>\n",
       "      <td>61.89</td>\n",
       "    </tr>\n",
       "    <tr>\n",
       "      <th>2</th>\n",
       "      <td>332.5</td>\n",
       "      <td>142.5</td>\n",
       "      <td>0.0</td>\n",
       "      <td>228.0</td>\n",
       "      <td>0.0</td>\n",
       "      <td>932.0</td>\n",
       "      <td>594.0</td>\n",
       "      <td>270</td>\n",
       "      <td>40.27</td>\n",
       "    </tr>\n",
       "    <tr>\n",
       "      <th>3</th>\n",
       "      <td>332.5</td>\n",
       "      <td>142.5</td>\n",
       "      <td>0.0</td>\n",
       "      <td>228.0</td>\n",
       "      <td>0.0</td>\n",
       "      <td>932.0</td>\n",
       "      <td>594.0</td>\n",
       "      <td>365</td>\n",
       "      <td>41.05</td>\n",
       "    </tr>\n",
       "    <tr>\n",
       "      <th>4</th>\n",
       "      <td>198.6</td>\n",
       "      <td>132.4</td>\n",
       "      <td>0.0</td>\n",
       "      <td>192.0</td>\n",
       "      <td>0.0</td>\n",
       "      <td>978.4</td>\n",
       "      <td>825.5</td>\n",
       "      <td>360</td>\n",
       "      <td>44.30</td>\n",
       "    </tr>\n",
       "  </tbody>\n",
       "</table>\n",
       "</div>"
      ],
      "text/plain": [
       "   Cement  Blast Furnace Slag  Fly Ash  Water  Superplasticizer  \\\n",
       "0   540.0                 0.0      0.0  162.0               2.5   \n",
       "1   540.0                 0.0      0.0  162.0               2.5   \n",
       "2   332.5               142.5      0.0  228.0               0.0   \n",
       "3   332.5               142.5      0.0  228.0               0.0   \n",
       "4   198.6               132.4      0.0  192.0               0.0   \n",
       "\n",
       "   Coarse Aggregate  Fine Aggregate  Age  Strength  \n",
       "0            1040.0           676.0   28     79.99  \n",
       "1            1055.0           676.0   28     61.89  \n",
       "2             932.0           594.0  270     40.27  \n",
       "3             932.0           594.0  365     41.05  \n",
       "4             978.4           825.5  360     44.30  "
      ]
     },
     "execution_count": 13,
     "metadata": {},
     "output_type": "execute_result"
    }
   ],
   "source": [
    "url=r\"https://cocl.us/concrete_data\"\n",
    "concrete_data=pd.read_csv(url)\n",
    "concrete_data.head(5)"
   ]
  },
  {
   "cell_type": "markdown",
   "id": "f14be60c",
   "metadata": {},
   "source": [
    "The dataset is about the compressive strength of different samples of concrete based on the volumes of the different ingredients that were used to make them. Ingredients include:\n",
    "1. Cement\n",
    "2. Blast Furnace Slag\n",
    "3. Fly Ash\n",
    "4. Water\n",
    "5. Superplasticizer\n",
    "6. Coarse Aggregate\n",
    "7. Fine Aggregate"
   ]
  },
  {
   "cell_type": "code",
   "execution_count": 14,
   "id": "01427c35",
   "metadata": {},
   "outputs": [
    {
     "data": {
      "text/plain": [
       "(1030, 9)"
      ]
     },
     "execution_count": 14,
     "metadata": {},
     "output_type": "execute_result"
    }
   ],
   "source": [
    "concrete_data.shape"
   ]
  },
  {
   "cell_type": "markdown",
   "id": "f9723537",
   "metadata": {},
   "source": [
    "Check each columns datatype of dataset "
   ]
  },
  {
   "cell_type": "code",
   "execution_count": 15,
   "id": "13824234",
   "metadata": {},
   "outputs": [
    {
     "data": {
      "text/plain": [
       "Cement                float64\n",
       "Blast Furnace Slag    float64\n",
       "Fly Ash               float64\n",
       "Water                 float64\n",
       "Superplasticizer      float64\n",
       "Coarse Aggregate      float64\n",
       "Fine Aggregate        float64\n",
       "Age                     int64\n",
       "Strength              float64\n",
       "dtype: object"
      ]
     },
     "execution_count": 15,
     "metadata": {},
     "output_type": "execute_result"
    }
   ],
   "source": [
    "concrete_data.dtypes"
   ]
  },
  {
   "cell_type": "markdown",
   "id": "bb1e6624",
   "metadata": {},
   "source": [
    "Check each columns whether exist missing value of dataset"
   ]
  },
  {
   "cell_type": "code",
   "execution_count": 16,
   "id": "02a16096",
   "metadata": {},
   "outputs": [
    {
     "data": {
      "text/plain": [
       "Cement                0\n",
       "Blast Furnace Slag    0\n",
       "Fly Ash               0\n",
       "Water                 0\n",
       "Superplasticizer      0\n",
       "Coarse Aggregate      0\n",
       "Fine Aggregate        0\n",
       "Age                   0\n",
       "Strength              0\n",
       "dtype: int64"
      ]
     },
     "execution_count": 16,
     "metadata": {},
     "output_type": "execute_result"
    }
   ],
   "source": [
    "pd.isna(concrete_data).sum()"
   ]
  },
  {
   "cell_type": "markdown",
   "id": "da814ba9",
   "metadata": {},
   "source": [
    "The data looks no missing valye and is ready to be used to build our model."
   ]
  },
  {
   "cell_type": "code",
   "execution_count": 17,
   "id": "bd5c66be",
   "metadata": {},
   "outputs": [],
   "source": [
    "X=concrete_data[concrete_data.columns[:8]]\n",
    "y=pd.DataFrame(concrete_data[\"Strength\"])\n",
    "Xcol=X.columns\n",
    "ycol=y.columns"
   ]
  },
  {
   "cell_type": "markdown",
   "id": "f188cce1",
   "metadata": {},
   "source": [
    "## Normalize Data"
   ]
  },
  {
   "cell_type": "markdown",
   "id": "6b3f9476",
   "metadata": {},
   "source": [
    "Repeat Part A but use a normalized version of the data"
   ]
  },
  {
   "cell_type": "code",
   "execution_count": 18,
   "id": "0f6c6880",
   "metadata": {},
   "outputs": [
    {
     "name": "stdout",
     "output_type": "stream",
     "text": [
      "Independent variable of dataset:\n",
      "      Cement  Blast Furnace Slag   Fly Ash     Water  Superplasticizer  \\\n",
      "0  2.477915           -0.856888 -0.847144 -0.916764         -0.620448   \n",
      "1  2.477915           -0.856888 -0.847144 -0.916764         -0.620448   \n",
      "2  0.491425            0.795526 -0.847144  2.175461         -1.039143   \n",
      "3  0.491425            0.795526 -0.847144  2.175461         -1.039143   \n",
      "4 -0.790459            0.678408 -0.847144  0.488793         -1.039143   \n",
      "\n",
      "   Coarse Aggregate  Fine Aggregate       Age  \n",
      "0          0.863154       -1.217670 -0.279733  \n",
      "1          1.056164       -1.217670 -0.279733  \n",
      "2         -0.526517       -2.240917  3.553066  \n",
      "3         -0.526517       -2.240917  5.057677  \n",
      "4          0.070527        0.647884  4.978487  \n",
      "\n",
      "\n",
      "Dependent variable of dataset:\n",
      "    Strength\n",
      "0  2.645408\n",
      "1  1.561421\n",
      "2  0.266627\n",
      "3  0.313340\n",
      "4  0.507979\n"
     ]
    }
   ],
   "source": [
    "stdard_x=preprocessing.StandardScaler()\n",
    "stdard_y=preprocessing.StandardScaler()\n",
    "X= stdard_x.fit_transform(X)\n",
    "X=pd.DataFrame(X,columns=Xcol)\n",
    "X[0:5]\n",
    "y= stdard_y.fit_transform(y)\n",
    "y=pd.DataFrame(y,columns=ycol)\n",
    "print(\"Independent variable of dataset:\\n {}\\n\\n\".format(X.head()))\n",
    "print(\"Dependent variable of dataset:\\n {}\".format(y.head()))"
   ]
  },
  {
   "cell_type": "markdown",
   "id": "636f21ec",
   "metadata": {},
   "source": [
    "1.Use the Keras library to build a neural network with the following:  \n",
    "2.One hidden layer of 10 nodes, and a ReLU activation function  \n",
    "3.Use the adam optimizer and the mean squared error  as the loss function."
   ]
  },
  {
   "cell_type": "code",
   "execution_count": 19,
   "id": "3d9bc726",
   "metadata": {},
   "outputs": [],
   "source": [
    "model=Sequential()\n",
    "input_number=X.shape[1]\n",
    "model.add(Dense(units=10, input_shape=(input_number,), activation='relu', kernel_initializer='normal')) \n",
    "model.add(Dense(units=1, kernel_initializer='normal')) \n",
    "\n",
    "model.compile(loss='mean_squared_error',\n",
    "              optimizer='adam')"
   ]
  },
  {
   "cell_type": "markdown",
   "id": "b3259ba6",
   "metadata": {},
   "source": [
    "1.Randomly split the data into a training and test sets by holding 30% of the data for testing."
   ]
  },
  {
   "cell_type": "code",
   "execution_count": 20,
   "id": "465fbb05",
   "metadata": {},
   "outputs": [
    {
     "name": "stdout",
     "output_type": "stream",
     "text": [
      "Traning data sample size:721\n",
      "Validation data sample size:309\n"
     ]
    }
   ],
   "source": [
    "X_train, X_val, y_train, y_val = train_test_split( X, y, test_size=0.3, random_state=1)\n",
    "print(\"Traning data sample size:{}\".format(X_train.shape[0]))\n",
    "print(\"Validation data sample size:{}\".format(X_val.shape[0]))"
   ]
  },
  {
   "cell_type": "markdown",
   "id": "cfe915a5",
   "metadata": {},
   "source": [
    "2.Train the model on the training data using 100 epochs."
   ]
  },
  {
   "cell_type": "code",
   "execution_count": 21,
   "id": "14c41184",
   "metadata": {},
   "outputs": [
    {
     "name": "stdout",
     "output_type": "stream",
     "text": [
      "Epoch 1/100\n",
      "721/721 [==============================] - 0s 75us/step - loss: 1.0171\n",
      "Epoch 2/100\n",
      "721/721 [==============================] - 0s 18us/step - loss: 0.9877\n",
      "Epoch 3/100\n",
      "721/721 [==============================] - 0s 18us/step - loss: 0.9411\n",
      "Epoch 4/100\n",
      "721/721 [==============================] - 0s 17us/step - loss: 0.8671\n",
      "Epoch 5/100\n",
      "721/721 [==============================] - 0s 15us/step - loss: 0.7728\n",
      "Epoch 6/100\n",
      "721/721 [==============================] - 0s 18us/step - loss: 0.6686\n",
      "Epoch 7/100\n",
      "721/721 [==============================] - 0s 17us/step - loss: 0.5772\n",
      "Epoch 8/100\n",
      "721/721 [==============================] - 0s 15us/step - loss: 0.5076\n",
      "Epoch 9/100\n",
      "721/721 [==============================] - 0s 15us/step - loss: 0.4579\n",
      "Epoch 10/100\n",
      "721/721 [==============================] - 0s 18us/step - loss: 0.4221\n",
      "Epoch 11/100\n",
      "721/721 [==============================] - 0s 17us/step - loss: 0.3980\n",
      "Epoch 12/100\n",
      "721/721 [==============================] - 0s 17us/step - loss: 0.3816\n",
      "Epoch 13/100\n",
      "721/721 [==============================] - 0s 15us/step - loss: 0.3706\n",
      "Epoch 14/100\n",
      "721/721 [==============================] - 0s 15us/step - loss: 0.3601\n",
      "Epoch 15/100\n",
      "721/721 [==============================] - 0s 15us/step - loss: 0.3514\n",
      "Epoch 16/100\n",
      "721/721 [==============================] - 0s 15us/step - loss: 0.3437\n",
      "Epoch 17/100\n",
      "721/721 [==============================] - 0s 15us/step - loss: 0.3352\n",
      "Epoch 18/100\n",
      "721/721 [==============================] - 0s 15us/step - loss: 0.3275\n",
      "Epoch 19/100\n",
      "721/721 [==============================] - 0s 15us/step - loss: 0.3200\n",
      "Epoch 20/100\n",
      "721/721 [==============================] - 0s 14us/step - loss: 0.3122\n",
      "Epoch 21/100\n",
      "721/721 [==============================] - 0s 17us/step - loss: 0.3038\n",
      "Epoch 22/100\n",
      "721/721 [==============================] - 0s 17us/step - loss: 0.2963\n",
      "Epoch 23/100\n",
      "721/721 [==============================] - 0s 17us/step - loss: 0.2891\n",
      "Epoch 24/100\n",
      "721/721 [==============================] - 0s 15us/step - loss: 0.2817\n",
      "Epoch 25/100\n",
      "721/721 [==============================] - 0s 17us/step - loss: 0.2753\n",
      "Epoch 26/100\n",
      "721/721 [==============================] - 0s 18us/step - loss: 0.2679\n",
      "Epoch 27/100\n",
      "721/721 [==============================] - 0s 18us/step - loss: 0.2612\n",
      "Epoch 28/100\n",
      "721/721 [==============================] - 0s 15us/step - loss: 0.2551\n",
      "Epoch 29/100\n",
      "721/721 [==============================] - 0s 17us/step - loss: 0.2489\n",
      "Epoch 30/100\n",
      "721/721 [==============================] - 0s 17us/step - loss: 0.2427\n",
      "Epoch 31/100\n",
      "721/721 [==============================] - 0s 17us/step - loss: 0.2377\n",
      "Epoch 32/100\n",
      "721/721 [==============================] - 0s 14us/step - loss: 0.2321\n",
      "Epoch 33/100\n",
      "721/721 [==============================] - 0s 17us/step - loss: 0.2273\n",
      "Epoch 34/100\n",
      "721/721 [==============================] - 0s 17us/step - loss: 0.2229\n",
      "Epoch 35/100\n",
      "721/721 [==============================] - 0s 15us/step - loss: 0.2178\n",
      "Epoch 36/100\n",
      "721/721 [==============================] - 0s 15us/step - loss: 0.2135\n",
      "Epoch 37/100\n",
      "721/721 [==============================] - 0s 16us/step - loss: 0.2088\n",
      "Epoch 38/100\n",
      "721/721 [==============================] - 0s 18us/step - loss: 0.2048\n",
      "Epoch 39/100\n",
      "721/721 [==============================] - 0s 14us/step - loss: 0.1999\n",
      "Epoch 40/100\n",
      "721/721 [==============================] - 0s 17us/step - loss: 0.1965\n",
      "Epoch 41/100\n",
      "721/721 [==============================] - 0s 18us/step - loss: 0.1939\n",
      "Epoch 42/100\n",
      "721/721 [==============================] - 0s 18us/step - loss: 0.1907\n",
      "Epoch 43/100\n",
      "721/721 [==============================] - 0s 15us/step - loss: 0.1878\n",
      "Epoch 44/100\n",
      "721/721 [==============================] - 0s 17us/step - loss: 0.1852\n",
      "Epoch 45/100\n",
      "721/721 [==============================] - 0s 17us/step - loss: 0.1822\n",
      "Epoch 46/100\n",
      "721/721 [==============================] - 0s 17us/step - loss: 0.1801\n",
      "Epoch 47/100\n",
      "721/721 [==============================] - 0s 15us/step - loss: 0.1784\n",
      "Epoch 48/100\n",
      "721/721 [==============================] - 0s 17us/step - loss: 0.1764\n",
      "Epoch 49/100\n",
      "721/721 [==============================] - 0s 17us/step - loss: 0.1741\n",
      "Epoch 50/100\n",
      "721/721 [==============================] - 0s 15us/step - loss: 0.1724\n",
      "Epoch 51/100\n",
      "721/721 [==============================] - 0s 15us/step - loss: 0.1717\n",
      "Epoch 52/100\n",
      "721/721 [==============================] - 0s 18us/step - loss: 0.1685\n",
      "Epoch 53/100\n",
      "721/721 [==============================] - 0s 17us/step - loss: 0.1674\n",
      "Epoch 54/100\n",
      "721/721 [==============================] - 0s 17us/step - loss: 0.1658\n",
      "Epoch 55/100\n",
      "721/721 [==============================] - 0s 15us/step - loss: 0.1642\n",
      "Epoch 56/100\n",
      "721/721 [==============================] - 0s 18us/step - loss: 0.1628\n",
      "Epoch 57/100\n",
      "721/721 [==============================] - 0s 14us/step - loss: 0.1621\n",
      "Epoch 58/100\n",
      "721/721 [==============================] - 0s 14us/step - loss: 0.1609\n",
      "Epoch 59/100\n",
      "721/721 [==============================] - 0s 15us/step - loss: 0.1595\n",
      "Epoch 60/100\n",
      "721/721 [==============================] - 0s 15us/step - loss: 0.1575\n",
      "Epoch 61/100\n",
      "721/721 [==============================] - 0s 14us/step - loss: 0.1571\n",
      "Epoch 62/100\n",
      "721/721 [==============================] - 0s 15us/step - loss: 0.1561\n",
      "Epoch 63/100\n",
      "721/721 [==============================] - 0s 19us/step - loss: 0.1553\n",
      "Epoch 64/100\n",
      "721/721 [==============================] - 0s 17us/step - loss: 0.1551\n",
      "Epoch 65/100\n",
      "721/721 [==============================] - 0s 14us/step - loss: 0.1536\n",
      "Epoch 66/100\n",
      "721/721 [==============================] - 0s 17us/step - loss: 0.1529\n",
      "Epoch 67/100\n",
      "721/721 [==============================] - 0s 18us/step - loss: 0.1521\n",
      "Epoch 68/100\n",
      "721/721 [==============================] - 0s 14us/step - loss: 0.1518\n",
      "Epoch 69/100\n",
      "721/721 [==============================] - 0s 15us/step - loss: 0.1508\n",
      "Epoch 70/100\n",
      "721/721 [==============================] - 0s 18us/step - loss: 0.1510\n",
      "Epoch 71/100\n",
      "721/721 [==============================] - 0s 15us/step - loss: 0.1504\n",
      "Epoch 72/100\n",
      "721/721 [==============================] - 0s 15us/step - loss: 0.1495\n",
      "Epoch 73/100\n",
      "721/721 [==============================] - 0s 15us/step - loss: 0.1493\n",
      "Epoch 74/100\n",
      "721/721 [==============================] - 0s 15us/step - loss: 0.1482\n",
      "Epoch 75/100\n",
      "721/721 [==============================] - 0s 15us/step - loss: 0.1480\n",
      "Epoch 76/100\n",
      "721/721 [==============================] - 0s 15us/step - loss: 0.1485\n",
      "Epoch 77/100\n",
      "721/721 [==============================] - 0s 17us/step - loss: 0.1470\n",
      "Epoch 78/100\n",
      "721/721 [==============================] - 0s 17us/step - loss: 0.1472\n",
      "Epoch 79/100\n",
      "721/721 [==============================] - 0s 14us/step - loss: 0.1459\n",
      "Epoch 80/100\n",
      "721/721 [==============================] - 0s 15us/step - loss: 0.1455\n",
      "Epoch 81/100\n",
      "721/721 [==============================] - 0s 17us/step - loss: 0.1450\n",
      "Epoch 82/100\n",
      "721/721 [==============================] - 0s 15us/step - loss: 0.1461\n",
      "Epoch 83/100\n",
      "721/721 [==============================] - 0s 18us/step - loss: 0.1450\n",
      "Epoch 84/100\n",
      "721/721 [==============================] - 0s 15us/step - loss: 0.1442\n",
      "Epoch 85/100\n",
      "721/721 [==============================] - 0s 15us/step - loss: 0.1436\n",
      "Epoch 86/100\n",
      "721/721 [==============================] - 0s 15us/step - loss: 0.1438\n",
      "Epoch 87/100\n",
      "721/721 [==============================] - 0s 15us/step - loss: 0.1434\n",
      "Epoch 88/100\n",
      "721/721 [==============================] - 0s 15us/step - loss: 0.1437\n",
      "Epoch 89/100\n",
      "721/721 [==============================] - 0s 15us/step - loss: 0.1438\n",
      "Epoch 90/100\n",
      "721/721 [==============================] - 0s 19us/step - loss: 0.1432\n",
      "Epoch 91/100\n",
      "721/721 [==============================] - 0s 17us/step - loss: 0.1428\n",
      "Epoch 92/100\n",
      "721/721 [==============================] - 0s 17us/step - loss: 0.1427\n",
      "Epoch 93/100\n",
      "721/721 [==============================] - 0s 15us/step - loss: 0.1423\n",
      "Epoch 94/100\n",
      "721/721 [==============================] - 0s 14us/step - loss: 0.1417\n",
      "Epoch 95/100\n",
      "721/721 [==============================] - 0s 15us/step - loss: 0.1412\n",
      "Epoch 96/100\n",
      "721/721 [==============================] - 0s 17us/step - loss: 0.1412\n",
      "Epoch 97/100\n",
      "721/721 [==============================] - 0s 17us/step - loss: 0.1420\n",
      "Epoch 98/100\n",
      "721/721 [==============================] - 0s 15us/step - loss: 0.1419\n",
      "Epoch 99/100\n",
      "721/721 [==============================] - 0s 18us/step - loss: 0.1425\n",
      "Epoch 100/100\n",
      "721/721 [==============================] - 0s 17us/step - loss: 0.1411\n"
     ]
    },
    {
     "data": {
      "text/plain": [
       "<keras.callbacks.callbacks.History at 0x2633333ae48>"
      ]
     },
     "execution_count": 21,
     "metadata": {},
     "output_type": "execute_result"
    }
   ],
   "source": [
    "epochs=100\n",
    "model.fit(X_train,y_train, epochs=epochs, verbose=1)"
   ]
  },
  {
   "cell_type": "markdown",
   "id": "bc604daa",
   "metadata": {},
   "source": [
    "3.Evaluate the model on the test data and compute the mean squared error between the predicted concrete strength and the actual concrete strength."
   ]
  },
  {
   "cell_type": "code",
   "execution_count": 22,
   "id": "0a26994d",
   "metadata": {},
   "outputs": [
    {
     "name": "stdout",
     "output_type": "stream",
     "text": [
      "309/309 [==============================] - 0s 34us/step\n"
     ]
    },
    {
     "data": {
      "text/plain": [
       "0.18960762048037694"
      ]
     },
     "execution_count": 22,
     "metadata": {},
     "output_type": "execute_result"
    }
   ],
   "source": [
    "loss_val = model.evaluate(X_val, y_val)\n",
    "loss_val #mean_squared_error"
   ]
  },
  {
   "cell_type": "markdown",
   "id": "225c8e31",
   "metadata": {},
   "source": [
    "4.Repeat steps 1 - 3, 50 times."
   ]
  },
  {
   "cell_type": "code",
   "execution_count": 23,
   "id": "d1848747",
   "metadata": {},
   "outputs": [
    {
     "name": "stdout",
     "output_type": "stream",
     "text": [
      "Run0 MSE:42.89967856741234\n",
      "Run1 MSE:51.9066077760661\n",
      "Run2 MSE:38.67413809413373\n",
      "Run3 MSE:43.07804001024621\n",
      "Run4 MSE:42.634011611565704\n",
      "Run5 MSE:45.945742798019495\n",
      "Run6 MSE:47.585577741433355\n",
      "Run7 MSE:37.49600754185974\n",
      "Run8 MSE:39.6347826312917\n",
      "Run9 MSE:43.609061500150254\n",
      "Run10 MSE:40.474952236486935\n",
      "Run11 MSE:38.497345530230305\n",
      "Run12 MSE:46.6572939840996\n",
      "Run13 MSE:44.84385341627038\n",
      "Run14 MSE:38.146814100136524\n",
      "Run15 MSE:35.72545717372704\n",
      "Run16 MSE:38.24909288654348\n",
      "Run17 MSE:36.627139943317914\n",
      "Run18 MSE:38.612888349974384\n",
      "Run19 MSE:36.5216854290369\n",
      "Run20 MSE:36.15926625953761\n",
      "Run21 MSE:35.841610357929305\n",
      "Run22 MSE:33.958421271077476\n",
      "Run23 MSE:38.158238986488584\n",
      "Run24 MSE:39.56037516451183\n",
      "Run25 MSE:40.25034826921756\n",
      "Run26 MSE:33.682663961755395\n",
      "Run27 MSE:32.667560041727526\n",
      "Run28 MSE:41.6629976228038\n",
      "Run29 MSE:35.82737944399498\n",
      "Run30 MSE:36.24988417675795\n",
      "Run31 MSE:31.144886927026047\n",
      "Run32 MSE:31.20388078234237\n",
      "Run33 MSE:35.8958201945533\n",
      "Run34 MSE:35.05916871268007\n",
      "Run35 MSE:36.88688650233505\n",
      "Run36 MSE:32.53218533675256\n",
      "Run37 MSE:36.04258844664441\n",
      "Run38 MSE:32.506917910176796\n",
      "Run39 MSE:28.853046402017817\n",
      "Run40 MSE:39.58518184748057\n",
      "Run41 MSE:30.950845820772678\n",
      "Run42 MSE:31.453796792959423\n",
      "Run43 MSE:38.2252127179984\n",
      "Run44 MSE:36.30705160258393\n",
      "Run45 MSE:37.74319608148086\n",
      "Run46 MSE:34.5630095073303\n",
      "Run47 MSE:36.353117670375426\n",
      "Run48 MSE:35.596140282589445\n",
      "Run49 MSE:36.03183483736509\n"
     ]
    }
   ],
   "source": [
    "MSE=[]\n",
    "repeat=50\n",
    "epochs=100\n",
    "for i in range(repeat):\n",
    "    X_train, X_val, y_train, y_val = train_test_split( X, y, test_size=0.3, random_state=i)\n",
    "    train_model =model.fit(X_train,y_train, epochs=epochs, batch_size=len(X_train), verbose=0, shuffle=True)\n",
    "    prediction=model.predict(X_val)\n",
    "    prediction_inverse=stdard_y.inverse_transform(prediction)\n",
    "    y_val_inverse=stdard_y.inverse_transform(y_val)\n",
    "    error=np.array(y_val_inverse).reshape(-1,1)-np.array(prediction_inverse).reshape(-1,1)\n",
    "    mse=1/len(error)*(error.T.dot(error))\n",
    "    print('Run{} MSE:{}'.format(i,mse[0][0]))\n",
    "    MSE.append(mse)"
   ]
  },
  {
   "cell_type": "markdown",
   "id": "2f45e5d1",
   "metadata": {},
   "source": [
    "5.Report the mean and the standard deviation of the mean squared errors."
   ]
  },
  {
   "cell_type": "code",
   "execution_count": 24,
   "id": "3d8db2db",
   "metadata": {},
   "outputs": [
    {
     "name": "stdout",
     "output_type": "stream",
     "text": [
      "Below is the mean and standard deviation of 50 mean squared errors with normalized data.\n",
      "Total number of epochs for each training is: 100\n",
      "mean of MSE:37.77547370506537\n",
      "Std of MSE:4.620226182594506\n"
     ]
    }
   ],
   "source": [
    "Mean_MSE=np.mean(MSE)\n",
    "STD_MSE=np.std(MSE)\n",
    "print(\"Below is the mean and standard deviation of {} mean squared errors with normalized data.\\n\\\n",
    "Total number of epochs for each training is: {}\".format(repeat,epochs))\n",
    "print(\"mean of MSE:{}\".format(Mean_MSE))\n",
    "print(\"Std of MSE:{}\".format(STD_MSE))"
   ]
  },
  {
   "cell_type": "markdown",
   "id": "8d3adea6",
   "metadata": {},
   "source": [
    "Repeat Part B but use 100 epochs this time for training.  \n",
    "How does the mean of the mean squared errors compare to that from Step B?"
   ]
  },
  {
   "cell_type": "code",
   "execution_count": 29,
   "id": "e6ea1655",
   "metadata": {},
   "outputs": [
    {
     "data": {
      "text/html": [
       "<div>\n",
       "<style scoped>\n",
       "    .dataframe tbody tr th:only-of-type {\n",
       "        vertical-align: middle;\n",
       "    }\n",
       "\n",
       "    .dataframe tbody tr th {\n",
       "        vertical-align: top;\n",
       "    }\n",
       "\n",
       "    .dataframe thead th {\n",
       "        text-align: right;\n",
       "    }\n",
       "</style>\n",
       "<table border=\"1\" class=\"dataframe\">\n",
       "  <thead>\n",
       "    <tr style=\"text-align: right;\">\n",
       "      <th></th>\n",
       "      <th>Mean_MSE</th>\n",
       "      <th>Model</th>\n",
       "      <th>Std_MSE</th>\n",
       "      <th>epochs</th>\n",
       "    </tr>\n",
       "  </thead>\n",
       "  <tbody>\n",
       "    <tr>\n",
       "      <th>0</th>\n",
       "      <td>110.004</td>\n",
       "      <td>without_Normalized</td>\n",
       "      <td>8.508</td>\n",
       "      <td>50</td>\n",
       "    </tr>\n",
       "    <tr>\n",
       "      <th>1</th>\n",
       "      <td>39.877</td>\n",
       "      <td>with_Normalized</td>\n",
       "      <td>5.335</td>\n",
       "      <td>50</td>\n",
       "    </tr>\n",
       "    <tr>\n",
       "      <th>2</th>\n",
       "      <td>37.775</td>\n",
       "      <td>with_Normalized</td>\n",
       "      <td>4.620</td>\n",
       "      <td>100</td>\n",
       "    </tr>\n",
       "  </tbody>\n",
       "</table>\n",
       "</div>"
      ],
      "text/plain": [
       "   Mean_MSE               Model  Std_MSE epochs\n",
       "0   110.004  without_Normalized    8.508     50\n",
       "1    39.877     with_Normalized    5.335     50\n",
       "2    37.775     with_Normalized    4.620    100"
      ]
     },
     "execution_count": 29,
     "metadata": {},
     "output_type": "execute_result"
    }
   ],
   "source": [
    "compare_result=pd.DataFrame({\"Model\":[\"without_Normalized\",\"with_Normalized\",\"with_Normalized\"],\n",
    "                             \"epochs\":[\"50\",\"50\",\"100\"],\n",
    "                             \"Mean_MSE\":[110.004,39.877,37.775],\n",
    "                             \"Std_MSE\":[8.508,5.335,4.620]})\n",
    "compare_result"
   ]
  },
  {
   "cell_type": "markdown",
   "id": "b633ed02",
   "metadata": {},
   "source": [
    "We can see the mean_MSE and Std_MSE significantly reduced after increase epoch. "
   ]
  }
 ],
 "metadata": {
  "kernelspec": {
   "display_name": "Python 3",
   "language": "python",
   "name": "python3"
  },
  "language_info": {
   "codemirror_mode": {
    "name": "ipython",
    "version": 3
   },
   "file_extension": ".py",
   "mimetype": "text/x-python",
   "name": "python",
   "nbconvert_exporter": "python",
   "pygments_lexer": "ipython3",
   "version": "3.6.13"
  }
 },
 "nbformat": 4,
 "nbformat_minor": 5
}
