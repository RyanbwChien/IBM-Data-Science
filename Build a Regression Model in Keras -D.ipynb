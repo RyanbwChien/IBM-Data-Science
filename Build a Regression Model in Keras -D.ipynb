{
 "cells": [
  {
   "cell_type": "markdown",
   "id": "05291a1d",
   "metadata": {},
   "source": [
    "### First load required libraries:"
   ]
  },
  {
   "cell_type": "code",
   "execution_count": 14,
   "id": "0c736eb6",
   "metadata": {},
   "outputs": [],
   "source": [
    "import pandas as pd\n",
    "import numpy as np\n",
    "import matplotlib.pyplot as plt\n",
    "from sklearn import preprocessing\n",
    "from sklearn.model_selection import train_test_split\n",
    "\n",
    "from keras.models import Sequential\n",
    "from keras.layers import Dense, Dropout, Activation, Flatten, LSTM, TimeDistributed, RepeatVector"
   ]
  },
  {
   "cell_type": "markdown",
   "id": "ebb5540a",
   "metadata": {},
   "source": [
    "### Load CSV File From URL"
   ]
  },
  {
   "cell_type": "code",
   "execution_count": 15,
   "id": "07f5eae6",
   "metadata": {},
   "outputs": [
    {
     "data": {
      "text/html": [
       "<div>\n",
       "<style scoped>\n",
       "    .dataframe tbody tr th:only-of-type {\n",
       "        vertical-align: middle;\n",
       "    }\n",
       "\n",
       "    .dataframe tbody tr th {\n",
       "        vertical-align: top;\n",
       "    }\n",
       "\n",
       "    .dataframe thead th {\n",
       "        text-align: right;\n",
       "    }\n",
       "</style>\n",
       "<table border=\"1\" class=\"dataframe\">\n",
       "  <thead>\n",
       "    <tr style=\"text-align: right;\">\n",
       "      <th></th>\n",
       "      <th>Cement</th>\n",
       "      <th>Blast Furnace Slag</th>\n",
       "      <th>Fly Ash</th>\n",
       "      <th>Water</th>\n",
       "      <th>Superplasticizer</th>\n",
       "      <th>Coarse Aggregate</th>\n",
       "      <th>Fine Aggregate</th>\n",
       "      <th>Age</th>\n",
       "      <th>Strength</th>\n",
       "    </tr>\n",
       "  </thead>\n",
       "  <tbody>\n",
       "    <tr>\n",
       "      <th>0</th>\n",
       "      <td>540.0</td>\n",
       "      <td>0.0</td>\n",
       "      <td>0.0</td>\n",
       "      <td>162.0</td>\n",
       "      <td>2.5</td>\n",
       "      <td>1040.0</td>\n",
       "      <td>676.0</td>\n",
       "      <td>28</td>\n",
       "      <td>79.99</td>\n",
       "    </tr>\n",
       "    <tr>\n",
       "      <th>1</th>\n",
       "      <td>540.0</td>\n",
       "      <td>0.0</td>\n",
       "      <td>0.0</td>\n",
       "      <td>162.0</td>\n",
       "      <td>2.5</td>\n",
       "      <td>1055.0</td>\n",
       "      <td>676.0</td>\n",
       "      <td>28</td>\n",
       "      <td>61.89</td>\n",
       "    </tr>\n",
       "    <tr>\n",
       "      <th>2</th>\n",
       "      <td>332.5</td>\n",
       "      <td>142.5</td>\n",
       "      <td>0.0</td>\n",
       "      <td>228.0</td>\n",
       "      <td>0.0</td>\n",
       "      <td>932.0</td>\n",
       "      <td>594.0</td>\n",
       "      <td>270</td>\n",
       "      <td>40.27</td>\n",
       "    </tr>\n",
       "    <tr>\n",
       "      <th>3</th>\n",
       "      <td>332.5</td>\n",
       "      <td>142.5</td>\n",
       "      <td>0.0</td>\n",
       "      <td>228.0</td>\n",
       "      <td>0.0</td>\n",
       "      <td>932.0</td>\n",
       "      <td>594.0</td>\n",
       "      <td>365</td>\n",
       "      <td>41.05</td>\n",
       "    </tr>\n",
       "    <tr>\n",
       "      <th>4</th>\n",
       "      <td>198.6</td>\n",
       "      <td>132.4</td>\n",
       "      <td>0.0</td>\n",
       "      <td>192.0</td>\n",
       "      <td>0.0</td>\n",
       "      <td>978.4</td>\n",
       "      <td>825.5</td>\n",
       "      <td>360</td>\n",
       "      <td>44.30</td>\n",
       "    </tr>\n",
       "  </tbody>\n",
       "</table>\n",
       "</div>"
      ],
      "text/plain": [
       "   Cement  Blast Furnace Slag  Fly Ash  Water  Superplasticizer  \\\n",
       "0   540.0                 0.0      0.0  162.0               2.5   \n",
       "1   540.0                 0.0      0.0  162.0               2.5   \n",
       "2   332.5               142.5      0.0  228.0               0.0   \n",
       "3   332.5               142.5      0.0  228.0               0.0   \n",
       "4   198.6               132.4      0.0  192.0               0.0   \n",
       "\n",
       "   Coarse Aggregate  Fine Aggregate  Age  Strength  \n",
       "0            1040.0           676.0   28     79.99  \n",
       "1            1055.0           676.0   28     61.89  \n",
       "2             932.0           594.0  270     40.27  \n",
       "3             932.0           594.0  365     41.05  \n",
       "4             978.4           825.5  360     44.30  "
      ]
     },
     "execution_count": 15,
     "metadata": {},
     "output_type": "execute_result"
    }
   ],
   "source": [
    "url=r\"https://cocl.us/concrete_data\"\n",
    "concrete_data=pd.read_csv(url)\n",
    "concrete_data.head(5)"
   ]
  },
  {
   "cell_type": "markdown",
   "id": "75faa969",
   "metadata": {},
   "source": [
    "The dataset is about the compressive strength of different samples of concrete based on the volumes of the different ingredients that were used to make them. Ingredients include:\n",
    "1. Cement\n",
    "2. Blast Furnace Slag\n",
    "3. Fly Ash\n",
    "4. Water\n",
    "5. Superplasticizer\n",
    "6. Coarse Aggregate\n",
    "7. Fine Aggregate"
   ]
  },
  {
   "cell_type": "code",
   "execution_count": 16,
   "id": "4993c1ec",
   "metadata": {},
   "outputs": [
    {
     "data": {
      "text/plain": [
       "(1030, 9)"
      ]
     },
     "execution_count": 16,
     "metadata": {},
     "output_type": "execute_result"
    }
   ],
   "source": [
    "concrete_data.shape"
   ]
  },
  {
   "cell_type": "markdown",
   "id": "598e3743",
   "metadata": {},
   "source": [
    "Check each columns datatype of dataset "
   ]
  },
  {
   "cell_type": "code",
   "execution_count": 17,
   "id": "3aae7a26",
   "metadata": {},
   "outputs": [
    {
     "data": {
      "text/plain": [
       "Cement                float64\n",
       "Blast Furnace Slag    float64\n",
       "Fly Ash               float64\n",
       "Water                 float64\n",
       "Superplasticizer      float64\n",
       "Coarse Aggregate      float64\n",
       "Fine Aggregate        float64\n",
       "Age                     int64\n",
       "Strength              float64\n",
       "dtype: object"
      ]
     },
     "execution_count": 17,
     "metadata": {},
     "output_type": "execute_result"
    }
   ],
   "source": [
    "concrete_data.dtypes"
   ]
  },
  {
   "cell_type": "markdown",
   "id": "1dd98d1d",
   "metadata": {},
   "source": [
    "Check each columns whether exist missing value of dataset"
   ]
  },
  {
   "cell_type": "code",
   "execution_count": 18,
   "id": "4a5545b9",
   "metadata": {},
   "outputs": [
    {
     "data": {
      "text/plain": [
       "Cement                0\n",
       "Blast Furnace Slag    0\n",
       "Fly Ash               0\n",
       "Water                 0\n",
       "Superplasticizer      0\n",
       "Coarse Aggregate      0\n",
       "Fine Aggregate        0\n",
       "Age                   0\n",
       "Strength              0\n",
       "dtype: int64"
      ]
     },
     "execution_count": 18,
     "metadata": {},
     "output_type": "execute_result"
    }
   ],
   "source": [
    "pd.isna(concrete_data).sum()"
   ]
  },
  {
   "cell_type": "markdown",
   "id": "6b3123c5",
   "metadata": {},
   "source": [
    "The data looks no missing valye and is ready to be used to build our model."
   ]
  },
  {
   "cell_type": "code",
   "execution_count": 19,
   "id": "6f83554c",
   "metadata": {},
   "outputs": [],
   "source": [
    "X=concrete_data[concrete_data.columns[:8]]\n",
    "y=pd.DataFrame(concrete_data[\"Strength\"])\n",
    "Xcol=X.columns\n",
    "ycol=y.columns"
   ]
  },
  {
   "cell_type": "markdown",
   "id": "1f55d779",
   "metadata": {},
   "source": [
    "## Normalize Data"
   ]
  },
  {
   "cell_type": "markdown",
   "id": "c7b71aa6",
   "metadata": {},
   "source": [
    "Repeat Part A but use a normalized version of the data"
   ]
  },
  {
   "cell_type": "code",
   "execution_count": 20,
   "id": "f14add93",
   "metadata": {},
   "outputs": [
    {
     "name": "stdout",
     "output_type": "stream",
     "text": [
      "Independent variable of dataset:\n",
      "      Cement  Blast Furnace Slag   Fly Ash     Water  Superplasticizer  \\\n",
      "0  2.477915           -0.856888 -0.847144 -0.916764         -0.620448   \n",
      "1  2.477915           -0.856888 -0.847144 -0.916764         -0.620448   \n",
      "2  0.491425            0.795526 -0.847144  2.175461         -1.039143   \n",
      "3  0.491425            0.795526 -0.847144  2.175461         -1.039143   \n",
      "4 -0.790459            0.678408 -0.847144  0.488793         -1.039143   \n",
      "\n",
      "   Coarse Aggregate  Fine Aggregate       Age  \n",
      "0          0.863154       -1.217670 -0.279733  \n",
      "1          1.056164       -1.217670 -0.279733  \n",
      "2         -0.526517       -2.240917  3.553066  \n",
      "3         -0.526517       -2.240917  5.057677  \n",
      "4          0.070527        0.647884  4.978487  \n",
      "\n",
      "\n",
      "Dependent variable of dataset:\n",
      "    Strength\n",
      "0  2.645408\n",
      "1  1.561421\n",
      "2  0.266627\n",
      "3  0.313340\n",
      "4  0.507979\n"
     ]
    }
   ],
   "source": [
    "stdard_x=preprocessing.StandardScaler()\n",
    "stdard_y=preprocessing.StandardScaler()\n",
    "X= stdard_x.fit_transform(X)\n",
    "X=pd.DataFrame(X,columns=Xcol)\n",
    "X[0:5]\n",
    "y= stdard_y.fit_transform(y)\n",
    "y=pd.DataFrame(y,columns=ycol)\n",
    "print(\"Independent variable of dataset:\\n {}\\n\\n\".format(X.head()))\n",
    "print(\"Dependent variable of dataset:\\n {}\".format(y.head()))"
   ]
  },
  {
   "cell_type": "markdown",
   "id": "c6ab8eea",
   "metadata": {},
   "source": [
    "1.Use the Keras library to build a neural network with the following:  \n",
    "2.Three hidden layer of 10 nodes, and a ReLU activation function  \n",
    "3.Use the adam optimizer and the mean squared error  as the loss function."
   ]
  },
  {
   "cell_type": "code",
   "execution_count": 21,
   "id": "ecffa70b",
   "metadata": {},
   "outputs": [],
   "source": [
    "model=Sequential()\n",
    "input_number=X.shape[1]\n",
    "model.add(Dense(units=10, input_shape=(input_number,), activation='relu', kernel_initializer='normal')) \n",
    "model.add(Dense(units=10, activation='relu', kernel_initializer='normal')) \n",
    "model.add(Dense(units=10, activation='relu', kernel_initializer='normal')) \n",
    "model.add(Dense(units=1, kernel_initializer='normal')) \n",
    "\n",
    "model.compile(loss='mean_squared_error',\n",
    "              optimizer='adam')"
   ]
  },
  {
   "cell_type": "markdown",
   "id": "559bc264",
   "metadata": {},
   "source": [
    "1.Randomly split the data into a training and test sets by holding 30% of the data for testing."
   ]
  },
  {
   "cell_type": "code",
   "execution_count": 22,
   "id": "0e0d87d9",
   "metadata": {},
   "outputs": [
    {
     "name": "stdout",
     "output_type": "stream",
     "text": [
      "Traning data sample size:721\n",
      "Validation data sample size:309\n"
     ]
    }
   ],
   "source": [
    "X_train, X_val, y_train, y_val = train_test_split( X, y, test_size=0.3, random_state=1)\n",
    "print(\"Traning data sample size:{}\".format(X_train.shape[0]))\n",
    "print(\"Validation data sample size:{}\".format(X_val.shape[0]))"
   ]
  },
  {
   "cell_type": "markdown",
   "id": "e88ea92d",
   "metadata": {},
   "source": [
    "2.Train the model on the training data using 50 epochs."
   ]
  },
  {
   "cell_type": "code",
   "execution_count": 23,
   "id": "9f0b0dcc",
   "metadata": {},
   "outputs": [
    {
     "name": "stdout",
     "output_type": "stream",
     "text": [
      "Epoch 1/50\n",
      "721/721 [==============================] - 0s 112us/step - loss: 1.0249\n",
      "Epoch 2/50\n",
      "721/721 [==============================] - 0s 21us/step - loss: 1.0220\n",
      "Epoch 3/50\n",
      "721/721 [==============================] - 0s 22us/step - loss: 1.0085\n",
      "Epoch 4/50\n",
      "721/721 [==============================] - 0s 22us/step - loss: 0.9531\n",
      "Epoch 5/50\n",
      "721/721 [==============================] - 0s 21us/step - loss: 0.8377\n",
      "Epoch 6/50\n",
      "721/721 [==============================] - 0s 19us/step - loss: 0.7218\n",
      "Epoch 7/50\n",
      "721/721 [==============================] - 0s 19us/step - loss: 0.6615\n",
      "Epoch 8/50\n",
      "721/721 [==============================] - 0s 19us/step - loss: 0.6205\n",
      "Epoch 9/50\n",
      "721/721 [==============================] - 0s 21us/step - loss: 0.5882\n",
      "Epoch 10/50\n",
      "721/721 [==============================] - 0s 21us/step - loss: 0.5489\n",
      "Epoch 11/50\n",
      "721/721 [==============================] - 0s 19us/step - loss: 0.5065\n",
      "Epoch 12/50\n",
      "721/721 [==============================] - 0s 22us/step - loss: 0.4577\n",
      "Epoch 13/50\n",
      "721/721 [==============================] - 0s 22us/step - loss: 0.4128\n",
      "Epoch 14/50\n",
      "721/721 [==============================] - 0s 19us/step - loss: 0.3781\n",
      "Epoch 15/50\n",
      "721/721 [==============================] - 0s 21us/step - loss: 0.3530\n",
      "Epoch 16/50\n",
      "721/721 [==============================] - 0s 18us/step - loss: 0.3338\n",
      "Epoch 17/50\n",
      "721/721 [==============================] - 0s 19us/step - loss: 0.3208\n",
      "Epoch 18/50\n",
      "721/721 [==============================] - 0s 19us/step - loss: 0.3077\n",
      "Epoch 19/50\n",
      "721/721 [==============================] - 0s 21us/step - loss: 0.2992\n",
      "Epoch 20/50\n",
      "721/721 [==============================] - 0s 19us/step - loss: 0.2926\n",
      "Epoch 21/50\n",
      "721/721 [==============================] - 0s 19us/step - loss: 0.2861\n",
      "Epoch 22/50\n",
      "721/721 [==============================] - 0s 21us/step - loss: 0.2798\n",
      "Epoch 23/50\n",
      "721/721 [==============================] - 0s 19us/step - loss: 0.2736\n",
      "Epoch 24/50\n",
      "721/721 [==============================] - 0s 18us/step - loss: 0.2689\n",
      "Epoch 25/50\n",
      "721/721 [==============================] - 0s 19us/step - loss: 0.2635\n",
      "Epoch 26/50\n",
      "721/721 [==============================] - 0s 21us/step - loss: 0.2579\n",
      "Epoch 27/50\n",
      "721/721 [==============================] - 0s 19us/step - loss: 0.2533\n",
      "Epoch 28/50\n",
      "721/721 [==============================] - 0s 19us/step - loss: 0.2450\n",
      "Epoch 29/50\n",
      "721/721 [==============================] - 0s 19us/step - loss: 0.2378\n",
      "Epoch 30/50\n",
      "721/721 [==============================] - 0s 21us/step - loss: 0.2304\n",
      "Epoch 31/50\n",
      "721/721 [==============================] - 0s 19us/step - loss: 0.2215\n",
      "Epoch 32/50\n",
      "721/721 [==============================] - 0s 18us/step - loss: 0.2152\n",
      "Epoch 33/50\n",
      "721/721 [==============================] - 0s 19us/step - loss: 0.2055\n",
      "Epoch 34/50\n",
      "721/721 [==============================] - 0s 19us/step - loss: 0.1978\n",
      "Epoch 35/50\n",
      "721/721 [==============================] - 0s 21us/step - loss: 0.1910\n",
      "Epoch 36/50\n",
      "721/721 [==============================] - 0s 21us/step - loss: 0.1856\n",
      "Epoch 37/50\n",
      "721/721 [==============================] - 0s 21us/step - loss: 0.1811\n",
      "Epoch 38/50\n",
      "721/721 [==============================] - 0s 22us/step - loss: 0.1767\n",
      "Epoch 39/50\n",
      "721/721 [==============================] - 0s 19us/step - loss: 0.1713\n",
      "Epoch 40/50\n",
      "721/721 [==============================] - 0s 19us/step - loss: 0.1662\n",
      "Epoch 41/50\n",
      "721/721 [==============================] - 0s 18us/step - loss: 0.1624\n",
      "Epoch 42/50\n",
      "721/721 [==============================] - 0s 18us/step - loss: 0.1597\n",
      "Epoch 43/50\n",
      "721/721 [==============================] - 0s 21us/step - loss: 0.1570\n",
      "Epoch 44/50\n",
      "721/721 [==============================] - 0s 21us/step - loss: 0.1543\n",
      "Epoch 45/50\n",
      "721/721 [==============================] - 0s 21us/step - loss: 0.1504\n",
      "Epoch 46/50\n",
      "721/721 [==============================] - 0s 19us/step - loss: 0.1480\n",
      "Epoch 47/50\n",
      "721/721 [==============================] - 0s 19us/step - loss: 0.1484\n",
      "Epoch 48/50\n",
      "721/721 [==============================] - 0s 19us/step - loss: 0.1445\n",
      "Epoch 49/50\n",
      "721/721 [==============================] - 0s 21us/step - loss: 0.1427\n",
      "Epoch 50/50\n",
      "721/721 [==============================] - 0s 19us/step - loss: 0.1415\n"
     ]
    },
    {
     "data": {
      "text/plain": [
       "<keras.callbacks.callbacks.History at 0x1fc9a901400>"
      ]
     },
     "execution_count": 23,
     "metadata": {},
     "output_type": "execute_result"
    }
   ],
   "source": [
    "model.fit(X_train,y_train, epochs=50, verbose=1)"
   ]
  },
  {
   "cell_type": "markdown",
   "id": "95c3791f",
   "metadata": {},
   "source": [
    "3.Evaluate the model on the test data and compute the mean squared error between the predicted concrete strength and the actual concrete strength."
   ]
  },
  {
   "cell_type": "code",
   "execution_count": 24,
   "id": "880ed2d5",
   "metadata": {},
   "outputs": [
    {
     "name": "stdout",
     "output_type": "stream",
     "text": [
      "309/309 [==============================] - 0s 35us/step\n"
     ]
    },
    {
     "data": {
      "text/plain": [
       "0.18785570547418687"
      ]
     },
     "execution_count": 24,
     "metadata": {},
     "output_type": "execute_result"
    }
   ],
   "source": [
    "loss_val = model.evaluate(X_val, y_val)\n",
    "loss_val #mean_squared_error"
   ]
  },
  {
   "cell_type": "markdown",
   "id": "24db749b",
   "metadata": {},
   "source": [
    "4.Repeat steps 1 - 3, 50 times."
   ]
  },
  {
   "cell_type": "code",
   "execution_count": 25,
   "id": "d32c9666",
   "metadata": {},
   "outputs": [
    {
     "name": "stdout",
     "output_type": "stream",
     "text": [
      "Run0 MSE:42.30240265004649\n",
      "Run1 MSE:50.83262437235309\n",
      "Run2 MSE:36.61309090721002\n",
      "Run3 MSE:39.472772340400795\n",
      "Run4 MSE:40.33240111907762\n",
      "Run5 MSE:41.22105463068746\n",
      "Run6 MSE:42.749529843481405\n",
      "Run7 MSE:33.501410273973676\n",
      "Run8 MSE:33.858403683633\n",
      "Run9 MSE:37.00483054437987\n",
      "Run10 MSE:35.55731851017034\n",
      "Run11 MSE:33.86304507572734\n",
      "Run12 MSE:39.18604761710505\n",
      "Run13 MSE:40.789140728598085\n",
      "Run14 MSE:34.4709454527938\n",
      "Run15 MSE:31.138939718434692\n",
      "Run16 MSE:32.65914420451992\n",
      "Run17 MSE:34.64272416265866\n",
      "Run18 MSE:34.00150511767101\n",
      "Run19 MSE:35.623762693072486\n",
      "Run20 MSE:30.11525597032665\n",
      "Run21 MSE:33.3194801528799\n",
      "Run22 MSE:27.650439977765416\n",
      "Run23 MSE:32.678383401012596\n",
      "Run24 MSE:34.362741861812935\n",
      "Run25 MSE:37.08148492894388\n",
      "Run26 MSE:31.50241708099614\n",
      "Run27 MSE:29.193200654761704\n",
      "Run28 MSE:35.47162119870397\n",
      "Run29 MSE:31.743985431695457\n",
      "Run30 MSE:27.921736831115858\n",
      "Run31 MSE:26.96906548974932\n",
      "Run32 MSE:28.882147230370787\n",
      "Run33 MSE:31.229080948220403\n",
      "Run34 MSE:30.944232900659078\n",
      "Run35 MSE:36.824502907878916\n",
      "Run36 MSE:27.550914768696778\n",
      "Run37 MSE:31.206945589258975\n",
      "Run38 MSE:29.61726680779439\n",
      "Run39 MSE:23.178528503796443\n",
      "Run40 MSE:31.607456101346575\n",
      "Run41 MSE:23.754673996501232\n",
      "Run42 MSE:27.875071056387185\n",
      "Run43 MSE:33.24609386629508\n",
      "Run44 MSE:30.3114371021528\n",
      "Run45 MSE:27.639429006926353\n",
      "Run46 MSE:28.024640309431092\n",
      "Run47 MSE:29.023989647570847\n",
      "Run48 MSE:28.873627120952317\n",
      "Run49 MSE:25.92780891215575\n"
     ]
    }
   ],
   "source": [
    "MSE=[]\n",
    "repeat=50\n",
    "for i in range(repeat):\n",
    "    X_train, X_val, y_train, y_val = train_test_split( X, y, test_size=0.3, random_state=i)\n",
    "    train_model =model.fit(X_train,y_train, epochs=50, batch_size=len(X_train), verbose=0, shuffle=True)\n",
    "    prediction=model.predict(X_val)\n",
    "    prediction_inverse=stdard_y.inverse_transform(prediction)\n",
    "    # Need inverse_transform Normalized data \n",
    "    y_val_inverse=stdard_y.inverse_transform(y_val)\n",
    "    error=np.array(y_val_inverse).reshape(-1,1)-np.array(prediction_inverse).reshape(-1,1)\n",
    "    mse=1/len(error)*(error.T.dot(error))\n",
    "    print('Run{} MSE:{}'.format(i,mse[0][0]))\n",
    "    MSE.append(mse)"
   ]
  },
  {
   "cell_type": "markdown",
   "id": "c278a815",
   "metadata": {},
   "source": [
    "5.Report the mean and the standard deviation of the mean squared errors."
   ]
  },
  {
   "cell_type": "code",
   "execution_count": 30,
   "id": "987fe74a",
   "metadata": {},
   "outputs": [
    {
     "name": "stdout",
     "output_type": "stream",
     "text": [
      "Below is the mean and standard deviation of 50 mean squared errors with normalized data.\n",
      "Total number of epochs for each training is: 50\n",
      "Total number of hidden layers:Three\n",
      "Mean of MSE:33.07097506804307\n",
      "Std of MSE:5.281153250083979\n"
     ]
    }
   ],
   "source": [
    "Mean_MSE=np.mean(MSE)\n",
    "STD_MSE=np.std(MSE)\n",
    "print(\"Below is the mean and standard deviation of {i} mean squared errors with normalized data.\\n\\\n",
    "Total number of epochs for each training is: {i}\\nTotal number of hidden layers:Three\".format(i=repeat))\n",
    "print(\"Mean of MSE:{}\".format(Mean_MSE))\n",
    "print(\"Std of MSE:{}\".format(STD_MSE))"
   ]
  },
  {
   "cell_type": "markdown",
   "id": "479f43ac",
   "metadata": {},
   "source": [
    "How does the mean of the mean squared errors compare to that from Step B?"
   ]
  },
  {
   "cell_type": "code",
   "execution_count": 31,
   "id": "d1c614ce",
   "metadata": {},
   "outputs": [
    {
     "name": "stdout",
     "output_type": "stream",
     "text": [
      "Comparesion table\n",
      "  Hidden_layer  Mean_MSE Normalized  Std_MSE\n",
      "0          one   110.004    without    8.508\n",
      "1          one    39.877       with    5.335\n",
      "2        three    33.071       with    5.281\n"
     ]
    }
   ],
   "source": [
    "compare_result=pd.DataFrame({\"Normalized\":[\"without\",\"with\",\"with\"],\"Hidden_layer\":[\"one\",\"one\",\"three\"],\"Mean_MSE\":[110.004,39.877,33.071],\"Std_MSE\":[8.508,5.335,5.281]})\n",
    "print(\"Comparesion table\")\n",
    "print(compare_result)"
   ]
  },
  {
   "cell_type": "markdown",
   "id": "3b7eb600",
   "metadata": {},
   "source": [
    "Mean of the mean squared errors compare to that from Step B(with Normalized and one hidden layer)  \n",
    "We can see the mean_MSE reduced after proceed Normalized, but Std_MSE has no significantly difference."
   ]
  }
 ],
 "metadata": {
  "kernelspec": {
   "display_name": "Python 3",
   "language": "python",
   "name": "python3"
  },
  "language_info": {
   "codemirror_mode": {
    "name": "ipython",
    "version": 3
   },
   "file_extension": ".py",
   "mimetype": "text/x-python",
   "name": "python",
   "nbconvert_exporter": "python",
   "pygments_lexer": "ipython3",
   "version": "3.6.13"
  }
 },
 "nbformat": 4,
 "nbformat_minor": 5
}
